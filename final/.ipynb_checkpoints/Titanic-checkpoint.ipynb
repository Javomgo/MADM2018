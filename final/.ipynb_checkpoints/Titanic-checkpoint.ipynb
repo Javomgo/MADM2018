{
 "cells": [
  {
   "cell_type": "markdown",
   "metadata": {},
   "source": [
    "# Titanic\n",
    "## Ejercicio final, anàlisis de un conjunto de datos. "
   ]
  },
  {
   "cell_type": "code",
   "execution_count": 1,
   "metadata": {},
   "outputs": [],
   "source": [
    "import pandas as pd\n",
    "import numpy as np\n",
    "import seaborn as sns\n",
    "import matplotlib.pyplot as plt\n",
    "from sklearn import datasets, linear_model\n",
    "from sklearn.linear_model import LinearRegression\n",
    "import json\n",
    "import requests"
   ]
  },
  {
   "cell_type": "markdown",
   "metadata": {},
   "source": [
    "1. Descripción del conjunto de datos: número de observaciones, muestra los nombres de las  columnas. Muestra las 5 primeras filas\n",
    "2. Mostrar la probabilidad de supervivencia según el sexo.\n",
    "3. Cuantas clases había? Cual es la media de edad de cada clase? Mostrar la probabilidad de supervivencia por clase.\n",
    "4. Crea una nueva columna de datos *Fam* que sea el resultado de sumar SibSp y Parch, con esto conoceremos el número de familiares que cada persona tenía en el barco. Elimina la columna PassengerId.\n",
    "5. Crea una función que reciba una lista por parámetro y devuelva una nueva lista de valores *True* / *False*. *True* Si el valor recibido es mayor a 3, *False* en caso contrario. Probad vuestra función con la columna *Fam*. Cuantas personas tienen más de 3 familiares?\n",
    "5. Rellenar las edades faltantes con la media de las edades. **Esta pregunta puntua doble si** rellenais las edades faltantes con la media de la clase de cada individuo. \n",
    "6. Con el resultado anterior dibuja un histograma de las edades del barco.\n",
    "7. Cuales son los nombres de las 10 personas mas mayores? Cuantos menores de 18 años había en el barco? Cúal es la diferencia entre la persona mayor y la mas joven?\n",
    "8. Cual es el precio medio de ticket (Fare) de los supervivientes, y de los no supervivientes?\n",
    "9. Existe alguna relación entre la edad  y el número de familiares? Puedes evaluarlo mediante la aplicación de una regresión lineal? Muestra el gráfico y explica tus propias conclusiones.\n",
    "10. Cread un json de las 10 primeras filas, guardadlo en un fichero llamado *resumen.json*\n"
   ]
  },
  {
   "cell_type": "markdown",
   "metadata": {},
   "source": [
    "# Descripción del conjunto de datos: número de observaciones, muestra los nombres de las columnas. Muestra las 5 primeras filas"
   ]
  },
  {
   "cell_type": "code",
   "execution_count": 2,
   "metadata": {},
   "outputs": [
    {
     "name": "stdout",
     "output_type": "stream",
     "text": [
      "El número de observaciones es: 891\n",
      "__________________________________________________\n",
      "Los nombres de las columnas son: ['PassengerId' 'Survived' 'Pclass' 'Name' 'Sex' 'Age' 'SibSp' 'Parch'\n",
      " 'Ticket' 'Fare' 'Cabin' 'Embarked']\n",
      "__________________________________________________\n"
     ]
    },
    {
     "data": {
      "text/html": [
       "<div>\n",
       "<style scoped>\n",
       "    .dataframe tbody tr th:only-of-type {\n",
       "        vertical-align: middle;\n",
       "    }\n",
       "\n",
       "    .dataframe tbody tr th {\n",
       "        vertical-align: top;\n",
       "    }\n",
       "\n",
       "    .dataframe thead th {\n",
       "        text-align: right;\n",
       "    }\n",
       "</style>\n",
       "<table border=\"1\" class=\"dataframe\">\n",
       "  <thead>\n",
       "    <tr style=\"text-align: right;\">\n",
       "      <th></th>\n",
       "      <th>PassengerId</th>\n",
       "      <th>Survived</th>\n",
       "      <th>Pclass</th>\n",
       "      <th>Name</th>\n",
       "      <th>Sex</th>\n",
       "      <th>Age</th>\n",
       "      <th>SibSp</th>\n",
       "      <th>Parch</th>\n",
       "      <th>Ticket</th>\n",
       "      <th>Fare</th>\n",
       "      <th>Cabin</th>\n",
       "      <th>Embarked</th>\n",
       "    </tr>\n",
       "  </thead>\n",
       "  <tbody>\n",
       "    <tr>\n",
       "      <th>0</th>\n",
       "      <td>1</td>\n",
       "      <td>0</td>\n",
       "      <td>3</td>\n",
       "      <td>Braund, Mr. Owen Harris</td>\n",
       "      <td>male</td>\n",
       "      <td>22.0</td>\n",
       "      <td>1</td>\n",
       "      <td>0</td>\n",
       "      <td>A/5 21171</td>\n",
       "      <td>7.2500</td>\n",
       "      <td>NaN</td>\n",
       "      <td>S</td>\n",
       "    </tr>\n",
       "    <tr>\n",
       "      <th>1</th>\n",
       "      <td>2</td>\n",
       "      <td>1</td>\n",
       "      <td>1</td>\n",
       "      <td>Cumings, Mrs. John Bradley (Florence Briggs Th...</td>\n",
       "      <td>female</td>\n",
       "      <td>38.0</td>\n",
       "      <td>1</td>\n",
       "      <td>0</td>\n",
       "      <td>PC 17599</td>\n",
       "      <td>71.2833</td>\n",
       "      <td>C85</td>\n",
       "      <td>C</td>\n",
       "    </tr>\n",
       "    <tr>\n",
       "      <th>2</th>\n",
       "      <td>3</td>\n",
       "      <td>1</td>\n",
       "      <td>3</td>\n",
       "      <td>Heikkinen, Miss. Laina</td>\n",
       "      <td>female</td>\n",
       "      <td>26.0</td>\n",
       "      <td>0</td>\n",
       "      <td>0</td>\n",
       "      <td>STON/O2. 3101282</td>\n",
       "      <td>7.9250</td>\n",
       "      <td>NaN</td>\n",
       "      <td>S</td>\n",
       "    </tr>\n",
       "    <tr>\n",
       "      <th>3</th>\n",
       "      <td>4</td>\n",
       "      <td>1</td>\n",
       "      <td>1</td>\n",
       "      <td>Futrelle, Mrs. Jacques Heath (Lily May Peel)</td>\n",
       "      <td>female</td>\n",
       "      <td>35.0</td>\n",
       "      <td>1</td>\n",
       "      <td>0</td>\n",
       "      <td>113803</td>\n",
       "      <td>53.1000</td>\n",
       "      <td>C123</td>\n",
       "      <td>S</td>\n",
       "    </tr>\n",
       "    <tr>\n",
       "      <th>4</th>\n",
       "      <td>5</td>\n",
       "      <td>0</td>\n",
       "      <td>3</td>\n",
       "      <td>Allen, Mr. William Henry</td>\n",
       "      <td>male</td>\n",
       "      <td>35.0</td>\n",
       "      <td>0</td>\n",
       "      <td>0</td>\n",
       "      <td>373450</td>\n",
       "      <td>8.0500</td>\n",
       "      <td>NaN</td>\n",
       "      <td>S</td>\n",
       "    </tr>\n",
       "  </tbody>\n",
       "</table>\n",
       "</div>"
      ],
      "text/plain": [
       "   PassengerId  Survived  Pclass  \\\n",
       "0            1         0       3   \n",
       "1            2         1       1   \n",
       "2            3         1       3   \n",
       "3            4         1       1   \n",
       "4            5         0       3   \n",
       "\n",
       "                                                Name     Sex   Age  SibSp  \\\n",
       "0                            Braund, Mr. Owen Harris    male  22.0      1   \n",
       "1  Cumings, Mrs. John Bradley (Florence Briggs Th...  female  38.0      1   \n",
       "2                             Heikkinen, Miss. Laina  female  26.0      0   \n",
       "3       Futrelle, Mrs. Jacques Heath (Lily May Peel)  female  35.0      1   \n",
       "4                           Allen, Mr. William Henry    male  35.0      0   \n",
       "\n",
       "   Parch            Ticket     Fare Cabin Embarked  \n",
       "0      0         A/5 21171   7.2500   NaN        S  \n",
       "1      0          PC 17599  71.2833   C85        C  \n",
       "2      0  STON/O2. 3101282   7.9250   NaN        S  \n",
       "3      0            113803  53.1000  C123        S  \n",
       "4      0            373450   8.0500   NaN        S  "
      ]
     },
     "execution_count": 2,
     "metadata": {},
     "output_type": "execute_result"
    }
   ],
   "source": [
    "df_titanic = pd.read_csv('https://raw.githubusercontent.com/Javomgo/MADM2018/master/final/train.csv') #lee el csv y lo almacena en la variable titanic\n",
    "print('El número de observaciones es: ' + str(df_titanic.shape[0])) #Muestra el número de observaciones.\n",
    "print('_'*50)\n",
    "print('Los nombres de las columnas son: ' + str(df_titanic.columns.values)) #Muestra el nombre de las columnas.\n",
    "print('_'*50)\n",
    "df_titanic.head() #Muestra las 5 primeras filas."
   ]
  },
  {
   "cell_type": "markdown",
   "metadata": {},
   "source": [
    "# Mostrar la probabilidad de supervivencia según el sexo."
   ]
  },
  {
   "cell_type": "code",
   "execution_count": 3,
   "metadata": {},
   "outputs": [
    {
     "data": {
      "text/html": [
       "<div>\n",
       "<style scoped>\n",
       "    .dataframe tbody tr th:only-of-type {\n",
       "        vertical-align: middle;\n",
       "    }\n",
       "\n",
       "    .dataframe tbody tr th {\n",
       "        vertical-align: top;\n",
       "    }\n",
       "\n",
       "    .dataframe thead th {\n",
       "        text-align: right;\n",
       "    }\n",
       "</style>\n",
       "<table border=\"1\" class=\"dataframe\">\n",
       "  <thead>\n",
       "    <tr style=\"text-align: right;\">\n",
       "      <th></th>\n",
       "      <th>Survived</th>\n",
       "    </tr>\n",
       "    <tr>\n",
       "      <th>Sex</th>\n",
       "      <th></th>\n",
       "    </tr>\n",
       "  </thead>\n",
       "  <tbody>\n",
       "    <tr>\n",
       "      <th>female</th>\n",
       "      <td>0.742038</td>\n",
       "    </tr>\n",
       "    <tr>\n",
       "      <th>male</th>\n",
       "      <td>0.188908</td>\n",
       "    </tr>\n",
       "  </tbody>\n",
       "</table>\n",
       "</div>"
      ],
      "text/plain": [
       "        Survived\n",
       "Sex             \n",
       "female  0.742038\n",
       "male    0.188908"
      ]
     },
     "execution_count": 3,
     "metadata": {},
     "output_type": "execute_result"
    }
   ],
   "source": [
    "df_titanic[['Sex', 'Survived']].groupby(['Sex']).mean()"
   ]
  },
  {
   "cell_type": "markdown",
   "metadata": {},
   "source": [
    "# Cuantas clases había? Cual es la media de edad de cada clase? Mostrar la probabilidad de supervivencia por clase."
   ]
  },
  {
   "cell_type": "code",
   "execution_count": 4,
   "metadata": {},
   "outputs": [
    {
     "name": "stdout",
     "output_type": "stream",
     "text": [
      "Habían 3 clases\n",
      "______________________________\n",
      "              Age\n",
      "Pclass           \n",
      "1       38.233441\n",
      "2       29.877630\n",
      "3       25.140620\n",
      "______________________________\n",
      "        Survived\n",
      "Pclass          \n",
      "1       0.629630\n",
      "2       0.472826\n",
      "3       0.242363\n"
     ]
    }
   ],
   "source": [
    "print('Habían ' + str(df_titanic['Pclass'].unique().shape[0]) + ' clases') #Muestra el número de clases.\n",
    "print('_'*30)\n",
    "print(df_titanic[['Pclass', 'Age']].groupby(['Pclass']).mean()) #Muestra la edad media de cada clase.\n",
    "print('_'*30)\n",
    "print(df_titanic[['Pclass', 'Survived']].groupby(['Pclass']).mean()) #Muestra la probabilidad de supervivencia de cada clase."
   ]
  },
  {
   "cell_type": "markdown",
   "metadata": {},
   "source": [
    "# Crea una nueva columna de datos Fam que sea el resultado de sumar SibSp y Parch, con esto conoceremos el número de familiares que cada persona tenía en el barco. Elimina la columna PassengerId."
   ]
  },
  {
   "cell_type": "code",
   "execution_count": 5,
   "metadata": {},
   "outputs": [],
   "source": [
    "df_titanic['Fam'] = df_titanic['SibSp'] + df_titanic['Parch'] #Suma SibSp y Parch para crear Fam.\n",
    "df_titanic = df_titanic.drop(['PassengerId'], axis = 1) #Elimina la columna PassengerId."
   ]
  },
  {
   "cell_type": "markdown",
   "metadata": {},
   "source": [
    "# Crea una función que reciba una lista por parámetro y devuelva una nueva lista de valores True / False. True Si el valor recibido es mayor a 3, False en caso contrario. Probad vuestra función con la columna Fam. Cuantas personas tienen más de 3 familiares?"
   ]
  },
  {
   "cell_type": "code",
   "execution_count": 6,
   "metadata": {
    "scrolled": true
   },
   "outputs": [
    {
     "name": "stdout",
     "output_type": "stream",
     "text": [
      "Escribe el nombre de la columna que quieras comprobar: Fam\n",
      "[False, False, False, False, False, False, False, True, False, False, False, False, False, True, False, False, True, False, False, False, False, False, False, False, True, True, False, True, False, False, False, False, False, False, False, False, False, False, False, False, False, False, False, False, False, False, False, False, False, False, True, False, False, False, False, False, False, False, False, True, False, False, False, True, False, False, False, False, True, False, False, True, False, False, False, False, False, False, False, False, False, False, False, False, False, False, True, False, True, False, False, False, False, False, False, False, False, False, False, False, False, False, False, False, False, False, False, False, False, False, False, False, False, False, False, False, False, False, False, True, False, False, False, False, False, False, False, False, False, False, False, False, False, False, False, False, False, False, False, False, False, False, False, False, False, False, False, True, False, False, False, False, False, False, False, False, False, False, False, True, False, False, False, False, True, False, False, True, False, False, False, True, False, False, False, False, True, False, False, False, True, False, True, False, False, False, False, False, False, False, False, False, False, False, False, False, False, False, False, False, False, True, False, False, False, False, False, False, False, False, False, False, False, False, False, False, False, False, False, False, False, False, False, False, False, False, False, False, False, True, False, False, False, True, False, False, False, False, False, False, False, False, False, False, False, False, False, False, False, False, False, False, False, False, False, False, False, False, False, False, False, True, False, False, False, False, True, False, False, False, False, False, False, False, False, False, False, False, True, False, False, False, False, False, False, False, False, False, False, False, False, False, False, False, False, False, False, False, False, False, False, False, False, False, False, False, False, False, False, False, False, True, False, False, False, False, False, False, False, False, False, False, False, False, True, False, False, False, False, False, False, False, False, False, False, False, False, False, False, False, False, True, False, False, False, False, False, False, False, False, False, False, False, False, False, False, False, False, False, False, True, False, False, False, False, False, False, False, False, False, False, False, False, False, True, False, False, False, False, False, False, False, False, False, False, False, True, False, False, False, False, False, False, False, False, False, False, False, False, False, False, False, False, False, False, False, False, False, False, True, False, False, False, False, False, False, False, False, False, False, False, False, False, False, False, False, False, False, False, False, False, False, False, False, False, False, True, True, True, False, False, False, False, False, False, False, False, False, False, False, False, False, False, False, False, False, False, False, False, False, False, False, False, False, False, False, False, False, False, False, False, False, False, False, False, False, False, False, False, False, True, False, False, False, False, True, False, False, False, False, False, False, False, False, False, False, False, False, False, False, False, False, False, False, False, False, False, False, False, False, False, False, False, False, False, False, False, False, False, False, False, False, False, False, False, False, False, False, False, False, False, False, False, False, False, False, False, False, False, False, False, True, True, False, False, False, False, False, False, False, False, False, False, False, False, False, False, False, False, False, False, False, False, False, False, False, False, True, False, False, False, False, False, False, False, False, False, False, False, False, False, False, False, False, False, False, False, False, False, False, False, False, False, False, False, False, False, False, False, False, False, False, False, False, False, False, False, False, False, False, True, False, False, False, False, False, False, False, False, False, False, False, False, False, False, False, False, False, False, False, False, False, False, False, True, False, False, False, True, False, False, False, True, False, False, False, False, False, False, False, False, False, False, False, False, False, False, False, False, False, False, False, False, False, False, False, False, False, False, False, False, False, False, False, False, False, False, False, True, False, False, False, False, True, False, False, True, False, False, False, False, False, False, False, False, False, False, False, False, False, False, False, False, False, False, False, False, False, False, False, False, False, False, False, False, False, False, False, False, False, False, False, False, False, False, False, False, False, False, False, False, False, False, False, False, False, True, False, False, False, False, False, True, False, False, False, False, False, False, False, False, False, False, False, False, False, False, False, False, False, False, False, False, False, False, False, False, False, False, False, False, False, False, False, True, False, False, False, False, False, False, False, False, False, False, False, False, True, False, False, False, False, True, False, False, False, False, False, False, False, False, False, False, False, False, False, False, False, False, False, False, False, False, True, False, False, False, False, False, True, False, False, False, False, True, False, False, False, False, False, False, False, False, False, False, False, False, False, False, False, False, False, False, False, False, False, True, False, False, False, True, False, False, False, False, False, False, False, False, False, False, False, False, True, False, False, False, False, False, False, False, False, False, False, False, False, False, False, False, False, False, False, False, False, False, True, False, False, False, False, False]\n",
      "__________________________________________________\n"
     ]
    },
    {
     "data": {
      "text/plain": [
       "62"
      ]
     },
     "execution_count": 6,
     "metadata": {},
     "output_type": "execute_result"
    }
   ],
   "source": [
    "def mayor_3 (lista):\n",
    "    resultado = []\n",
    "    lista = input(\"Escribe el nombre de la columna que quieras comprobar: \")\n",
    "    for i in range (0,df_titanic[lista].shape[0]):\n",
    "        if df_titanic[lista][i] > 3:\n",
    "            resultado.append(True)\n",
    "        else:\n",
    "            resultado.append(False)\n",
    "    return resultado\n",
    "    \n",
    "lista = ()\n",
    "lista_fam = mayor_3(lista)\n",
    "print(lista_fam)\n",
    "print('_'*50)\n",
    "lista_fam.count(True)"
   ]
  },
  {
   "cell_type": "markdown",
   "metadata": {},
   "source": [
    "# Rellenar las edades faltantes con la media de las edades. Esta pregunta puntua doble si rellenais las edades faltantes con la media de la clase de cada individuo."
   ]
  },
  {
   "cell_type": "code",
   "execution_count": 7,
   "metadata": {},
   "outputs": [
    {
     "data": {
      "text/plain": [
       "0      22.0\n",
       "1      38.0\n",
       "2      26.0\n",
       "3      35.0\n",
       "4      35.0\n",
       "5      25.0\n",
       "6      54.0\n",
       "7       2.0\n",
       "8      27.0\n",
       "9      14.0\n",
       "10      4.0\n",
       "11     58.0\n",
       "12     20.0\n",
       "13     39.0\n",
       "14     14.0\n",
       "15     55.0\n",
       "16      2.0\n",
       "17     29.0\n",
       "18     31.0\n",
       "19     25.0\n",
       "20     35.0\n",
       "21     34.0\n",
       "22     15.0\n",
       "23     28.0\n",
       "24      8.0\n",
       "25     38.0\n",
       "26     25.0\n",
       "27     19.0\n",
       "28     25.0\n",
       "29     25.0\n",
       "       ... \n",
       "861    21.0\n",
       "862    48.0\n",
       "863    25.0\n",
       "864    24.0\n",
       "865    42.0\n",
       "866    27.0\n",
       "867    31.0\n",
       "868    25.0\n",
       "869     4.0\n",
       "870    26.0\n",
       "871    47.0\n",
       "872    33.0\n",
       "873    47.0\n",
       "874    28.0\n",
       "875    15.0\n",
       "876    20.0\n",
       "877    19.0\n",
       "878    25.0\n",
       "879    56.0\n",
       "880    25.0\n",
       "881    33.0\n",
       "882    22.0\n",
       "883    28.0\n",
       "884    25.0\n",
       "885    39.0\n",
       "886    27.0\n",
       "887    19.0\n",
       "888    25.0\n",
       "889    26.0\n",
       "890    32.0\n",
       "Name: Age, Length: 891, dtype: float64"
      ]
     },
     "execution_count": 7,
     "metadata": {},
     "output_type": "execute_result"
    }
   ],
   "source": [
    "edad_estimada = np.zeros((1,3))\n",
    "\n",
    "for i in range (0,3):\n",
    "    edad_estimada_clase = df_titanic[(df_titanic['Pclass'] == i+1)]['Age'].dropna()\n",
    "    edad_estimada[0,i] = edad_estimada_clase.mean()\n",
    "    df_titanic.loc[(df_titanic.Age.isnull()) & (df_titanic.Pclass == i+1), 'Age'] = int(edad_estimada[0,i]) #De esta manera se dará la edad sin decimales, redondeando siempre hacia abajo, una persona de 25.85 años se considera una persona de 25 años aunque esté más cerca de cumplir los 26\n",
    "    \n",
    "df_titanic['Age']"
   ]
  },
  {
   "cell_type": "markdown",
   "metadata": {},
   "source": [
    "# Con el resultado anterior dibuja un histograma de las edades del barco."
   ]
  },
  {
   "cell_type": "code",
   "execution_count": 8,
   "metadata": {},
   "outputs": [
    {
     "data": {
      "text/plain": [
       "<seaborn.axisgrid.FacetGrid at 0x1b1f97b52e8>"
      ]
     },
     "execution_count": 8,
     "metadata": {},
     "output_type": "execute_result"
    },
    {
     "data": {
      "image/png": "[encoded data removed]",
      "text/plain": [
       "<Figure size 360x360 with 1 Axes>"
      ]
     },
     "metadata": {},
     "output_type": "display_data"
    }
   ],
   "source": [
    "histogr = sns.FacetGrid(df_titanic, size = 5)\n",
    "histogr.map(plt.hist, 'Age')"
   ]
  },
  {
   "cell_type": "markdown",
   "metadata": {},
   "source": [
    "# Cuales son los nombres de las 10 personas mas mayores? Cuantos menores de 18 años había en el barco? Cúal es la diferencia entre la persona mayor y la mas joven?"
   ]
  },
  {
   "cell_type": "code",
   "execution_count": 9,
   "metadata": {},
   "outputs": [
    {
     "name": "stdout",
     "output_type": "stream",
     "text": [
      "Age\n",
      "80.0    Barkworth, Mr. Algernon Henry Wilson\n",
      "74.0                     Svensson, Mr. Johan\n",
      "71.0               Goldschmidt, Mr. George B\n",
      "71.0                 Artagaveytia, Mr. Ramon\n",
      "70.5                    Connors, Mr. Patrick\n",
      "70.0             Mitchell, Mr. Henry Michael\n",
      "70.0            Crosby, Capt. Edward Gifford\n",
      "66.0                   Wheadon, Mr. Edward H\n",
      "65.0               Millet, Mr. Francis Davis\n",
      "65.0          Ostby, Mr. Engelhart Cornelius\n",
      "Name: Name, dtype: object\n",
      "__________________________________________________\n",
      "El número de menores de 18 años en el barco era de: 113\n",
      "__________________________________________________\n",
      "La diferencia de edad entre la persona mayor y la más joven es: 79.58\n"
     ]
    }
   ],
   "source": [
    "df_edad = df_titanic.set_index('Age').sort_values('Age', ascending = False)\n",
    "print(df_edad.loc[:,'Name'].head(10))\n",
    "print('_'*50)\n",
    "print('El número de menores de 18 años en el barco era de: ' + str(df_edad.loc[17.9:].shape[0]))\n",
    "print('_'*50)\n",
    "diferencia_edad = df_edad.index[0] - df_edad.index[df_edad.shape[0]-1]\n",
    "print('La diferencia de edad entre la persona mayor y la más joven es: ' + str(diferencia_edad))"
   ]
  },
  {
   "cell_type": "markdown",
   "metadata": {},
   "source": [
    "# Cual es el precio medio de ticket (Fare) de los supervivientes, y de los no supervivientes?"
   ]
  },
  {
   "cell_type": "code",
   "execution_count": 10,
   "metadata": {},
   "outputs": [
    {
     "data": {
      "text/html": [
       "<div>\n",
       "<style scoped>\n",
       "    .dataframe tbody tr th:only-of-type {\n",
       "        vertical-align: middle;\n",
       "    }\n",
       "\n",
       "    .dataframe tbody tr th {\n",
       "        vertical-align: top;\n",
       "    }\n",
       "\n",
       "    .dataframe thead th {\n",
       "        text-align: right;\n",
       "    }\n",
       "</style>\n",
       "<table border=\"1\" class=\"dataframe\">\n",
       "  <thead>\n",
       "    <tr style=\"text-align: right;\">\n",
       "      <th></th>\n",
       "      <th>Fare</th>\n",
       "    </tr>\n",
       "    <tr>\n",
       "      <th>Survived</th>\n",
       "      <th></th>\n",
       "    </tr>\n",
       "  </thead>\n",
       "  <tbody>\n",
       "    <tr>\n",
       "      <th>0</th>\n",
       "      <td>22.117887</td>\n",
       "    </tr>\n",
       "    <tr>\n",
       "      <th>1</th>\n",
       "      <td>48.395408</td>\n",
       "    </tr>\n",
       "  </tbody>\n",
       "</table>\n",
       "</div>"
      ],
      "text/plain": [
       "               Fare\n",
       "Survived           \n",
       "0         22.117887\n",
       "1         48.395408"
      ]
     },
     "execution_count": 10,
     "metadata": {},
     "output_type": "execute_result"
    }
   ],
   "source": [
    "df_titanic[['Survived', 'Fare']].groupby(['Survived']).mean()"
   ]
  },
  {
   "cell_type": "markdown",
   "metadata": {},
   "source": [
    "# Existe alguna relación entre la edad y el número de familiares? Puedes evaluarlo mediante la aplicación de una regresión lineal? Muestra el gráfico y explica tus propias conclusiones."
   ]
  },
  {
   "cell_type": "code",
   "execution_count": 11,
   "metadata": {},
   "outputs": [
    {
     "name": "stdout",
     "output_type": "stream",
     "text": [
      "Coefficients: \n",
      " [[-0.03821303]]\n",
      "Intercept: \n",
      " [2.06597208]\n",
      "La relación entre la edad y el número de familiares es negativa, a medida que aumenta la edad el numero de familiares en el barco disminuye.\n",
      "__________________________________________________\n"
     ]
    },
    {
     "data": {
      "image/png": "[encoded data removed]",
      "text/plain": [
       "<Figure size 432x288 with 1 Axes>"
      ]
     },
     "metadata": {},
     "output_type": "display_data"
    },
    {
     "name": "stdout",
     "output_type": "stream",
     "text": [
      "Como se puede ver en el gráfico coincide con los coeficientes extraidos de la regresion, Empezando por 2 familiares a la edad de 0, lo cual tiene sentido si suponemos que el bebe suele viajar con sus dos padres y posibles hermanos. A raiz de ahí la pendiente es negativa en 0.03 por cada año de edad que se aumenta.\n"
     ]
    }
   ],
   "source": [
    "#Se hace la regresion y predicción.\n",
    "num = df_titanic.shape[0] - int(df_titanic.shape[0]/2)\n",
    "df_x_tr = df_titanic[['Age']][:num]\n",
    "df_x_test = df_titanic[['Age']][num:]\n",
    "df_y_tr = df_titanic[['Fam']][:num]\n",
    "df_y_test = df_titanic[['Fam']][num:]\n",
    "reg = LinearRegression().fit(df_x_tr, df_y_tr)\n",
    "pred = reg.predict(df_x_test)\n",
    "\n",
    "#Se muestran los coeficientes por pantalla.\n",
    "print('Coefficients: \\n', reg.coef_)\n",
    "print('Intercept: \\n', reg.intercept_)\n",
    "print('La relación entre la edad y el número de familiares es negativa, a medida que aumenta la edad el numero de familiares en el barco disminuye.')\n",
    "print('_'*50)\n",
    "plt.scatter(df_x_test, df_y_test,  color='black')\n",
    "plt.plot(df_x_test, pred, color='blue', linewidth=3)\n",
    "\n",
    "plt.title(\"Regresión\")\n",
    "plt.show()\n",
    "print('Como se puede ver en el gráfico coincide con los coeficientes extraidos de la regresion, Empezando por 2 familiares a la edad de 0, lo cual tiene sentido si suponemos que el bebe suele viajar con sus dos padres y posibles hermanos. A raiz de ahí la pendiente es negativa en 0.03 por cada año de edad que se aumenta.')"
   ]
  },
  {
   "cell_type": "markdown",
   "metadata": {},
   "source": [
    "# Cread un json de las 10 primeras filas, guardadlo en un fichero llamado resumen.json"
   ]
  },
  {
   "cell_type": "code",
   "execution_count": 12,
   "metadata": {},
   "outputs": [
    {
     "data": {
      "text/plain": [
       "<bound method NDFrame.to_json of    Survived  Pclass                                               Name  \\\n",
       "0         0       3                            Braund, Mr. Owen Harris   \n",
       "1         1       1  Cumings, Mrs. John Bradley (Florence Briggs Th...   \n",
       "2         1       3                             Heikkinen, Miss. Laina   \n",
       "3         1       1       Futrelle, Mrs. Jacques Heath (Lily May Peel)   \n",
       "4         0       3                           Allen, Mr. William Henry   \n",
       "5         0       3                                   Moran, Mr. James   \n",
       "6         0       1                            McCarthy, Mr. Timothy J   \n",
       "7         0       3                     Palsson, Master. Gosta Leonard   \n",
       "8         1       3  Johnson, Mrs. Oscar W (Elisabeth Vilhelmina Berg)   \n",
       "9         1       2                Nasser, Mrs. Nicholas (Adele Achem)   \n",
       "\n",
       "      Sex   Age  SibSp  Parch            Ticket     Fare Cabin Embarked  Fam  \n",
       "0    male  22.0      1      0         A/5 21171   7.2500   NaN        S    1  \n",
       "1  female  38.0      1      0          PC 17599  71.2833   C85        C    1  \n",
       "2  female  26.0      0      0  STON/O2. 3101282   7.9250   NaN        S    0  \n",
       "3  female  35.0      1      0            113803  53.1000  C123        S    1  \n",
       "4    male  35.0      0      0            373450   8.0500   NaN        S    0  \n",
       "5    male  25.0      0      0            330877   8.4583   NaN        Q    0  \n",
       "6    male  54.0      0      0             17463  51.8625   E46        S    0  \n",
       "7    male   2.0      3      1            349909  21.0750   NaN        S    4  \n",
       "8  female  27.0      0      2            347742  11.1333   NaN        S    2  \n",
       "9  female  14.0      1      0            237736  30.0708   NaN        C    1  >"
      ]
     },
     "execution_count": 12,
     "metadata": {},
     "output_type": "execute_result"
    }
   ],
   "source": [
    "resumen = df_titanic[:10].to_json\n",
    "resumen"
   ]
  },
  {
   "cell_type": "markdown",
   "metadata": {},
   "source": [
    "El conjunto de datos se llama *train.csv*"
   ]
  }
 ],
 "metadata": {
  "kernelspec": {
   "display_name": "Python 3",
   "language": "python",
   "name": "python3"
  },
  "language_info": {
   "codemirror_mode": {
    "name": "ipython",
    "version": 3
   },
   "file_extension": ".py",
   "mimetype": "text/x-python",
   "name": "python",
   "nbconvert_exporter": "python",
   "pygments_lexer": "ipython3",
   "version": "3.6.5"
  }
 },
 "nbformat": 4,
 "nbformat_minor": 2
}
