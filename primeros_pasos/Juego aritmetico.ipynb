{
 "cells": [
  {
   "cell_type": "code",
   "execution_count": 26,
   "metadata": {},
   "outputs": [
    {
     "name": "stdout",
     "output_type": "stream",
     "text": [
      "¿Cómo te llamas? j\n",
      "¿Cuántas operaciones quieres realizar? 5\n",
      "94+80=5\n",
      "Respuesta incorrecta, la respuesta correcta es: 174\n",
      "Cociente entero resultado de: 73/53=1\n",
      "Respuesta correcta\n",
      "74*96=5\n",
      "Respuesta incorrecta, la respuesta correcta es: 7104\n",
      "31-64=5\n",
      "Respuesta incorrecta, la respuesta correcta es: -33\n",
      "Cociente entero resultado de: 45/59=1\n",
      "Respuesta incorrecta, la respuesta correcta es: 0\n",
      "Has terminado, j. Tu puntuación es: 1\n"
     ]
    }
   ],
   "source": [
    "def suma(x,y):\n",
    "    global contador\n",
    "    resultado = x + y\n",
    "    calculo = int(input(str(x) + \"+\" + str(y) + \"=\" ))\n",
    "    if resultado == calculo:\n",
    "        print(\"Respuesta correcta\")\n",
    "        contador = contador + 1\n",
    "    else:\n",
    "        print(\"Respuesta incorrecta, la respuesta correcta es: \" + str(resultado))\n",
    "    return contador\n",
    "\n",
    "def resta(x,y):\n",
    "    global contador\n",
    "    resultado = x - y\n",
    "    calculo = int(input(str(x) + \"-\" + str(y) + \"=\" ))\n",
    "    if resultado == calculo:\n",
    "        print(\"Respuesta correcta\")\n",
    "        contador = contador +1\n",
    "    else:\n",
    "        print(\"Respuesta incorrecta, la respuesta correcta es: \" + str(resultado))\n",
    "    return contador\n",
    "\n",
    "def multiplicacion(x,y):\n",
    "    global contador\n",
    "    resultado = x * y\n",
    "    calculo = int(input(str(x) + \"*\" + str(y) + \"=\" ))\n",
    "    if resultado == calculo:\n",
    "        print(\"Respuesta correcta\")\n",
    "        contador = contador + 1\n",
    "    else:\n",
    "        print(\"Respuesta incorrecta, la respuesta correcta es: \" + str(resultado))\n",
    "    return contador\n",
    "\n",
    "def division(x,y):\n",
    "    global contador\n",
    "    resultado = x // y\n",
    "    calculo = int(input(\"Cociente entero resultado de: \" + str(x) + \"/\" + str(y) + \"=\" ))\n",
    "    if resultado == calculo:\n",
    "        print(\"Respuesta correcta\")\n",
    "        contador = contador + 1\n",
    "    else:\n",
    "        print(\"Respuesta incorrecta, la respuesta correcta es: \" + str(resultado))\n",
    "    return contador\n",
    "\n",
    "operaciones = [suma, resta, multiplicacion, division]\n",
    "nombre = input (\"¿Cómo te llamas? \")\n",
    "cantidad = int(input (\"¿Cuántas operaciones quieres realizar? \"))\n",
    "contador = 0\n",
    "import random\n",
    "\n",
    "for i in range (0,cantidad):\n",
    "    x = random.randint(1,100)\n",
    "    y = random.randint(1,100)\n",
    "    random.choice(operaciones)(x,y)\n",
    "\n",
    "print(\"Has terminado \" + str(nombre) + \". Tu puntuación es: \" + str(contador))\n",
    "    \n",
    "\n"
   ]
  }
 ],
 "metadata": {
  "anaconda-cloud": {},
  "kernelspec": {
   "display_name": "Python 3",
   "language": "python",
   "name": "python3"
  },
  "language_info": {
   "codemirror_mode": {
    "name": "ipython",
    "version": 3
   },
   "file_extension": ".py",
   "mimetype": "text/x-python",
   "name": "python",
   "nbconvert_exporter": "python",
   "pygments_lexer": "ipython3",
   "version": "3.6.5"
  }
 },
 "nbformat": 4,
 "nbformat_minor": 1
}
