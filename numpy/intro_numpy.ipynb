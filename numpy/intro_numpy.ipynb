{
 "cells": [
  {
   "cell_type": "markdown",
   "metadata": {},
   "source": [
    "# Introducción a Numpy y Matplotlib"
   ]
  },
  {
   "cell_type": "markdown",
   "metadata": {},
   "source": [
    "# Que es numpy?\n",
    "\n",
    "En la introducción a Python vimos que una de las estructuras de datos fundamentales son las listas. A pesar de ser un elemento muy útil en el mundo de la programación, esta estructura de datos es ineficiente cuando queremos considerar estas listas como vectores.\n",
    "\n",
    "Por ejemplo,\n",
    "\n",
    "```python\n",
    "\n",
    "lista_1 = [1, 2, 3]\n",
    "lista_2 = [2, 3, 4]\n",
    "\n",
    "suma_lista_1_2 = lista_1 + lista_2\n",
    "\n",
    "print(suma_lista)\n",
    "\n",
    "# output\n",
    "[1, 2, 3, 2, 3, 4]\n",
    "```\n",
    "\n",
    "Si quisieramos sumar elemento a elemento, deberíamos crearnos una función con bucles que nos devolviese el vector resultante."
   ]
  },
  {
   "cell_type": "code",
   "execution_count": null,
   "metadata": {
    "collapsed": true
   },
   "outputs": [],
   "source": [
    "\n",
    "## Escribe una función que dadas dos listas nos\n",
    "## devuelva la suma elemento a elemento.\n",
    "## Ojo! Acuerdate de comprobar que son del mismo tamaño!\n",
    "\n",
    "def suma_dos_listas_elemento_a_elemento(a, b):\n",
    "    \"\"\"\n",
    "    Suma las dos listas a y b\n",
    "    \"\"\"\n",
    "    if len(a) == len(b):\n",
    "        l3 = []\n",
    "        for i in range(0, len(a)):\n",
    "            l3.append(a[i]+b[i])\n",
    "        return l3\n",
    "    else:\n",
    "        print(\"no valido\")\n",
    "    \n",
    "            \n",
    "\n",
    "##Extra: Echale un vistazo a la funcion zip() de python.\n",
    "##Usando zip y las list comprehensions podemos reescribir\n",
    "##la función en una linea de forma pythonica!\n"
   ]
  },
  {
   "cell_type": "code",
   "execution_count": null,
   "metadata": {},
   "outputs": [],
   "source": [
    "a = [1, 2, 3]\n",
    "b = [2, 3, 4]\n",
    "\n",
    "suma_a_b = suma_dos_listas_elemento_a_elemento(a, b)\n",
    "\n",
    "print(suma_a_b)"
   ]
  },
  {
   "cell_type": "code",
   "execution_count": null,
   "metadata": {},
   "outputs": [],
   "source": [
    "r = [ i[0] + i[1] for i in zip(a,b)]\n",
    "print(list(zip(a,b)))"
   ]
  },
  {
   "cell_type": "markdown",
   "metadata": {},
   "source": [
    "Como veis en el ejemplo anterior, no solo es innecesariamente complicado si no que es ineficiente cuando queremos tratar con vectores de gran tamaño. Sería conveniente tener operaciones definidas para este tipo de problemas.\n",
    "\n",
    "Eso es exactamente lo que hace **Numpy**. Interpreta las listas como vectores numéricos y nos permite realizar operaciones de algebra lineal de forma eficiente.\n",
    "\n",
    "Por si no fuera poco, **Numpy** está escrito en **C**, uno de los lenguajes de programación más [rápidos](https://attractivechaos.github.io/plb/). Además de proporcionarnos velocidad a la hora de realizar cálculos algebráicos, sirve cómo interfaz para comunicarse con funcionalidades escritas en **C** y en **Fortran**. Ésta es la razón principal por la **Numpy** nos importa cómo analistas o cientificos de datos, aunque no trabajemos directamente en algebra: los principales módulos para el análisis de datos (pandas y sklearn) se basan en **Numpy**, por lo que entender su estructura y uso nos facilitara la comprensión de las librerias de más alto nivel.\n",
    "\n"
   ]
  },
  {
   "cell_type": "code",
   "execution_count": 5,
   "metadata": {},
   "outputs": [],
   "source": [
    "## importar numpy bajo el alias np\n",
    "\n",
    "import numpy as np"
   ]
  },
  {
   "cell_type": "markdown",
   "metadata": {},
   "source": [
    "## `np.array` y `np.ndarray`\n",
    "\n",
    "### `np.ndarray`\n",
    "\n",
    "De la [documentación](https://docs.scipy.org/doc/numpy-1.13.0/reference/arrays.html) oficial:\n",
    "\n",
    ">  Describes an N-dimensional collection of “items” of the same type.\n",
    "\n",
    "### `np.array`\n",
    "\n",
    "Es un metodo de numpy que nos permite crear np.ndarray\n"
   ]
  },
  {
   "cell_type": "markdown",
   "metadata": {},
   "source": [
    "### Crear un array a partir de listas\n",
    "\n",
    "Para crear un array a partir de una lista, simplemente debemos pasar la lista como argumento a la función np.array()\n",
    "\n",
    "```python\n",
    "\n",
    "mi_lista = [1, 2, 3]\n",
    "\n",
    "mi_array = np.array(mi_lista)\n",
    "\n",
    "print(type(mi_array))\n",
    "```\n",
    "\n",
    "También, podemos crear un array a partir de una lista de listas.\n",
    "\n",
    "```python\n",
    "\n",
    "mi_lista_anidada = [[1, 2, 3],\n",
    "                    [4, 5, 6]]\n",
    "\n",
    "mi_array_2d = np.array(mi_lista_anidada)\n",
    "```\n",
    "                   "
   ]
  },
  {
   "cell_type": "code",
   "execution_count": null,
   "metadata": {
    "collapsed": true
   },
   "outputs": [],
   "source": [
    "## Crea un ndarray a partir de una lista anidada\n",
    "mi_lista = [1, 2, 3]\n",
    "\n",
    "mi_lista_anidada = [[1, 2, 3],\n",
    "                    [4, 5, 6]]\n",
    "\n",
    "array_1D = np.array(mi_lista)\n",
    "\n",
    "array_2D = np.array(mi_lista_anidada)\n",
    "array_1D\n",
    "#mi_lista"
   ]
  },
  {
   "cell_type": "markdown",
   "metadata": {},
   "source": [
    "## Atributos de np.ndarray\n",
    "\n",
    "Cada array tiene los atributos:\n",
    "\n",
    "* `ndim`: el número de dimensionesthe number of dimensiones\n",
    "* `shape`: el tamaño de cada dimensión\n",
    "* `size`: el tamaño total del array"
   ]
  },
  {
   "cell_type": "code",
   "execution_count": null,
   "metadata": {},
   "outputs": [],
   "source": [
    "## Comprueba los atributos del array creado antes\n"
   ]
  },
  {
   "cell_type": "markdown",
   "metadata": {},
   "source": [
    "## Creación de arrays\n",
    "Creación de arrays de ceros o unos\n",
    "```python\n",
    "np.zeros((2, 3))\n",
    "np.ones((3, 2)) \n",
    "\n",
    "```\n",
    "    \n",
    "Creación de arrays con valores que incrementan su valor de forma regular\n",
    "```python\n",
    "np.arange(10) \n",
    "np.arange(2, 10, dtype=np.float) \n",
    "np.arange(2, 3, 0.1) \n",
    "\n",
    "```\n",
    "Creación de un array con el número especificado de elementos, separados de manera equivalente entre los valores de inicio y final\n",
    "```python\n",
    "np.linspace(1., 4., 6) \n",
    "```\n",
    "Creación de la matriz identidad\n",
    "```python\n",
    "np.eye(3) \n",
    "\n",
    "```\n"
   ]
  },
  {
   "cell_type": "markdown",
   "metadata": {},
   "source": [
    "## Modificando la forma del array\n",
    "\n",
    "Modificar la forma de un array puede ser interesante. Disponemos de diversas funciones que nos permiten realizar esta operación de forma sencilla: \n",
    "\n",
    "**reshape**: Proporciona una nueva forma a una matriz sin cambiar sus datos.\n",
    "```python\n",
    "a = np.zeros((10, 2))\n",
    "a.reshape((4,5)) #No se puede cambiar el número de elementos\n",
    "```\n",
    "**ravel**: Devuelve el mismo array en forma unidimensional.\n",
    "```python\n",
    "x = np.array([[1, 2, 3], [4, 5, 6]])\n",
    "print(np.ravel(x))\n",
    "```\n",
    "\n",
    "**flatten**: Devuelve una copia del array colapsado en dimensión.\n",
    "```python\n",
    "a = np.array([[1,2], [3,4]])\n",
    "a.flatten()\n",
    "```\n",
    "\n",
    "**transpose**: Transpone la matriz.\n",
    "```python\n",
    "x = np.arange(4).reshape((2,2))\n",
    "np.transpose(x)\n",
    "```\n",
    "\n",
    "**resize**:Devuelve un nuevo array con la forma específica. Si la nueva forma tiene mas elementos que la original se rellena con copias del original.\n",
    "```python\n",
    "a=np.array([[0,1],[2,3]])\n",
    "np.resize(a,(2,3))\n",
    "\n",
    "```\n"
   ]
  },
  {
   "cell_type": "markdown",
   "metadata": {},
   "source": [
    "**Ejercicios**\n",
    "\n",
    "    1.Crea un array con los valores entre 10 y 50. \n",
    "    2.Crea una matriz de 3x3 con los valores de 0 a 8.\n",
    "    3.Crea la matriz identidad de 5x5.\n",
    "    4.Crea un array de 12 elementos y transformalo en una matriz de 4x3.\n",
    "    5.Crear un array de 10 elementos con los valores entre 0 y 1 espaciados uniformemente."
   ]
  },
  {
   "cell_type": "markdown",
   "metadata": {},
   "source": [
    "## Arrays de números aleatorios\n",
    "\n",
    "Numpy tiene una funcionalidad muy útil para generar datos de forma aleatoria o siguiendo alguna distribución estadística.\n",
    "\n",
    "```python\n",
    "gauss_dist = np.random.normal(loc=0,\n",
    "                              scale=1,\n",
    "                              size=(1000, 2))\n",
    "```\n",
    "[Documentación numpy.random](https://docs.scipy.org/doc/numpy-1.15.1/reference/routines.random.html#distributions) con las distintas distribuciones estadísticas que podemos usar."
   ]
  },
  {
   "cell_type": "code",
   "execution_count": 2,
   "metadata": {
    "collapsed": true
   },
   "outputs": [],
   "source": [
    "## inicializar un vector aleatorio de enteros\n",
    "np.random.seed(0)  # semilla for reproducibility\n",
    "\n",
    "x1 = np.random.randint(10, size=6)  # One-dimensional array\n",
    "x2 = np.random.randint(10, size=(3, 4))  # Two-dimensional array"
   ]
  },
  {
   "cell_type": "code",
   "execution_count": null,
   "metadata": {
    "collapsed": true
   },
   "outputs": [],
   "source": [
    "## crea un array de 200 filas y 3 columnas aleatorio que siga una distribución\n",
    "## de poisson\n",
    "\n",
    "x_pois = np.random.poisson(lam=2., size=(200, 3))"
   ]
  },
  {
   "cell_type": "code",
   "execution_count": null,
   "metadata": {
    "scrolled": true
   },
   "outputs": [],
   "source": [
    "x_pois"
   ]
  },
  {
   "cell_type": "markdown",
   "metadata": {},
   "source": [
    "## Indexación\n",
    "Sigue un patron similar a las listas de python.\n",
    "\n",
    "Para acceder al $i^{th}$ elemento de una array 1-dimensional se sigue la sintaxis de braquets.\n",
    "\n",
    "Para acceder al $i^{th}$ elemento de una array 2-dimensional se sigue la sintaxis de braquets con los indices separados por comas."
   ]
  },
  {
   "cell_type": "code",
   "execution_count": 3,
   "metadata": {},
   "outputs": [
    {
     "name": "stdout",
     "output_type": "stream",
     "text": [
      "[5 0 3 3 7 9]\n",
      "5\n",
      "3\n",
      "7\n"
     ]
    }
   ],
   "source": [
    "## accede al primer, tercer y quinto elemento de x1.\n",
    "print(x1)\n",
    "print(x1[0])\n",
    "print(x1[2])\n",
    "print(x1[4])"
   ]
  },
  {
   "cell_type": "code",
   "execution_count": 4,
   "metadata": {},
   "outputs": [
    {
     "name": "stdout",
     "output_type": "stream",
     "text": [
      "[[3 5 2 4]\n",
      " [7 6 8 8]\n",
      " [1 6 7 7]]\n"
     ]
    },
    {
     "data": {
      "text/plain": [
       "5"
      ]
     },
     "execution_count": 4,
     "metadata": {},
     "output_type": "execute_result"
    }
   ],
   "source": [
    "## accede primer al elemento de la primera fila y segunda columna de x2\n",
    "print(x2)\n",
    "x2[0, 1]"
   ]
  },
  {
   "cell_type": "markdown",
   "metadata": {},
   "source": [
    "## Selección de rangos de valores (Slicing)\n",
    "\n",
    "De la misma forma que hacemos \"slices\" de listas en python podemos crearlos en los np.array.\n",
    "\n",
    "Además, podemos especificar un \"step\", que es la cantidad de elementos que se saltara entre uno y otro.\n",
    "\n",
    "\n",
    "x[start:stop:step]\n",
    "\n",
    "Si no se especifica alguno de ellos, numpy toma el valor por defecto, que son:\n",
    "\n",
    "* start=0\n",
    "* stop=tamaño de la dimensión\n",
    "* step=1"
   ]
  },
  {
   "cell_type": "code",
   "execution_count": 5,
   "metadata": {},
   "outputs": [
    {
     "data": {
      "text/plain": [
       "array([0, 1, 2, 3, 4, 5, 6, 7, 8, 9])"
      ]
     },
     "execution_count": 5,
     "metadata": {},
     "output_type": "execute_result"
    }
   ],
   "source": [
    "## Crea un array de una dimension con los numeros del 0 al 9 usando arange\n",
    "a = np.arange(10)\n",
    "a"
   ]
  },
  {
   "cell_type": "code",
   "execution_count": 8,
   "metadata": {},
   "outputs": [
    {
     "data": {
      "text/plain": [
       "array([0, 1, 2])"
      ]
     },
     "execution_count": 8,
     "metadata": {},
     "output_type": "execute_result"
    }
   ],
   "source": [
    "## Crea un slice que contenga los 3 primeros elementos\n",
    "a_3 = a[:3]\n",
    "a_3"
   ]
  },
  {
   "cell_type": "code",
   "execution_count": null,
   "metadata": {},
   "outputs": [],
   "source": [
    "## Crea un slice que contenga los 2 ultimos elementos\n",
    "a_last_2 = a[8:]\n",
    "a_last_2"
   ]
  },
  {
   "cell_type": "code",
   "execution_count": 13,
   "metadata": {},
   "outputs": [
    {
     "data": {
      "text/plain": [
       "array([1, 3, 5, 7, 9])"
      ]
     },
     "execution_count": 13,
     "metadata": {},
     "output_type": "execute_result"
    }
   ],
   "source": [
    "## Crea un slice que contenga los elementos uno si y uno no\n",
    "a[1::2]"
   ]
  },
  {
   "cell_type": "markdown",
   "metadata": {},
   "source": [
    "**Ejercicio**\n",
    "\n",
    "Podrías hacer lo mismo pero con los números impares?"
   ]
  },
  {
   "cell_type": "markdown",
   "metadata": {},
   "source": [
    "**Ojo!** si el paso es negativo los campos de start y stop se invierten. Es una forma muy conveniente de invertir el orden de un array"
   ]
  },
  {
   "cell_type": "code",
   "execution_count": 14,
   "metadata": {},
   "outputs": [
    {
     "name": "stdout",
     "output_type": "stream",
     "text": [
      "[0 1 2 3 4 5 6 7 8 9]\n",
      "[9 8 7 6 5 4 3 2 1 0]\n"
     ]
    }
   ],
   "source": [
    "ordered = np.arange(10)\n",
    "print(ordered)\n",
    "reverse_order = ordered[::-1] \n",
    "print(reverse_order)"
   ]
  },
  {
   "cell_type": "code",
   "execution_count": null,
   "metadata": {},
   "outputs": [],
   "source": [
    "## Multidimensiones\n",
    "\n",
    "Hay que especificar el sub-slice en cada una de las dimensiones separados por coma en braquets\n",
    "\n",
    "\n",
    "```python\n",
    "\n",
    "x = np.array([[3, 5, 2, 4],\n",
    "              [7, 6, 8, 8],\n",
    "              [1, 6, 7, 7]])\n",
    "# columnas\n",
    "x[:, 2]\n",
    "# output\n",
    "array([2, 8, 7])\n",
    "\n",
    "# filas\n",
    "x[1, :]\n",
    "\n",
    "# output\n",
    "array([7, 6, 8, 8])\n",
    "```\n",
    "\n",
    "Asignar valores a los elementos seleccionados es sencillo, tan solo debemos estar atentos a algunas\n",
    "normas\n",
    "```python\n",
    "y = np.arange(10)\n",
    "y[2:5] = 1 #Podemos asignar un valor a un conjunto de elementos seleccionados\n",
    "y[2:5] = [1,2,3,4] # También podemos asignar un nuevo conjunto con la misma longitud\n",
    "```\n"
   ]
  },
  {
   "cell_type": "code",
   "execution_count": 21,
   "metadata": {},
   "outputs": [
    {
     "data": {
      "text/plain": [
       "array([ 0,  1, 20, 32, 42,  5,  6,  7,  8,  9])"
      ]
     },
     "execution_count": 21,
     "metadata": {},
     "output_type": "execute_result"
    }
   ],
   "source": [
    "y = np.arange(10)\n",
    "y[2:5] = 1 #Podemos asignar un valor a un conjunto de elementos seleccionados\n",
    "y\n",
    "y[2:5] = [20,32,42] # También podemos asignar un nuevo conjunto con la misma longitud\n",
    "y"
   ]
  },
  {
   "cell_type": "code",
   "execution_count": 26,
   "metadata": {},
   "outputs": [
    {
     "data": {
      "text/plain": [
       "array([3, 7, 1])"
      ]
     },
     "execution_count": 26,
     "metadata": {},
     "output_type": "execute_result"
    }
   ],
   "source": [
    "## accede a la primera columna\n",
    "x = np.array([[3, 5, 2, 4],\n",
    "              [7, 6, 8, 8],\n",
    "              [1, 6, 7, 7]])\n",
    "\n",
    "pcolumna = x[:,0]\n",
    "pcolumna"
   ]
  },
  {
   "cell_type": "code",
   "execution_count": 34,
   "metadata": {},
   "outputs": [
    {
     "data": {
      "text/plain": [
       "array([[3, 5],\n",
       "       [7, 6]])"
      ]
     },
     "execution_count": 34,
     "metadata": {},
     "output_type": "execute_result"
    }
   ],
   "source": [
    "## accede a la segunda columna\n",
    "scolumna = x[:2, :2]\n",
    "scolumna"
   ]
  },
  {
   "cell_type": "code",
   "execution_count": null,
   "metadata": {},
   "outputs": [],
   "source": [
    "## elimina la primera fila\n",
    "a = x[1:, :]\n",
    "\n"
   ]
  },
  {
   "cell_type": "markdown",
   "metadata": {},
   "source": [
    "**Ejercicios**\n",
    "\n",
    "    1.Crea un array de 10 posiciones con todos los valores del 8 al 17. Substituye el quinto por un 1. Muéstralo por pantalla.\n",
    "    2.Crea una matriz de 10x10 posiciones con valor 1 en los bordes y valor 0 en el interior.\n",
    "    3.Crea una matriz de 5x3 posiciones con valores del 1 al 15, muestra la segunda fila. Muestra la primera columna.\n",
    "    4.Crea una matriz de 5x5 posiciones con los valores de 0 a 24 y substituye la quinta fila por el valor de la quinta columna\n"
   ]
  },
  {
   "cell_type": "code",
   "execution_count": 42,
   "metadata": {},
   "outputs": [
    {
     "data": {
      "text/plain": [
       "array([[ 1.,  1.,  1.,  1.,  1.,  1.,  1.,  1.,  1.,  1.],\n",
       "       [ 1.,  0.,  0.,  0.,  0.,  0.,  0.,  0.,  0.,  0.],\n",
       "       [ 1.,  0.,  0.,  0.,  0.,  0.,  0.,  0.,  0.,  0.],\n",
       "       [ 1.,  0.,  0.,  0.,  0.,  0.,  0.,  0.,  0.,  0.],\n",
       "       [ 1.,  0.,  0.,  0.,  0.,  0.,  0.,  0.,  0.,  0.],\n",
       "       [ 1.,  0.,  0.,  0.,  0.,  0.,  0.,  0.,  0.,  0.],\n",
       "       [ 1.,  0.,  0.,  0.,  0.,  0.,  0.,  0.,  0.,  0.],\n",
       "       [ 1.,  0.,  0.,  0.,  0.,  0.,  0.,  0.,  0.,  0.],\n",
       "       [ 1.,  0.,  0.,  0.,  0.,  0.,  0.,  0.,  0.,  0.],\n",
       "       [ 1.,  1.,  1.,  1.,  1.,  1.,  1.,  1.,  1.,  1.]])"
      ]
     },
     "execution_count": 42,
     "metadata": {},
     "output_type": "execute_result"
    }
   ],
   "source": [
    "mzeros = np.zeros((10,10))\n",
    "mzeros[0,:] = 1\n",
    "mzeros[mzeros.shape[0]-1,:] = 1\n",
    "mzeros[:,0] = 1\n",
    "mzeros"
   ]
  },
  {
   "cell_type": "markdown",
   "metadata": {},
   "source": [
    "### Seleccionando elementos de forma lógica\n",
    "\n",
    "Numpy es muy flexible en cuanto a la selección de elementos y nos permite usar expresiones booleanas para obtener elementos de un array.\n",
    "```python\n",
    "    x = np.arange(30) #Creamos un array con valores entre [0, 30)\n",
    "    print x[x > 20] #Mostrará aquellos valores mayores que 20\n",
    "    e = x < 15 #Creamos un array lógico\n",
    "    print x[e] #Mostrará aquellos valores menores que 15\n",
    "```\n"
   ]
  },
  {
   "cell_type": "code",
   "execution_count": 46,
   "metadata": {},
   "outputs": [
    {
     "name": "stdout",
     "output_type": "stream",
     "text": [
      "[21 22 23 24 25 26 27 28 29]\n",
      "[ True  True  True  True  True  True  True  True  True  True  True  True\n",
      "  True  True  True False False False False False False False False False\n",
      " False False False False False False]\n",
      "[ 0  1  2  3  4  5  6  7  8  9 10 11 12 13 14]\n"
     ]
    }
   ],
   "source": [
    "x = np.arange(30) #Creamos un array con valores entre [0, 30)\n",
    "print(x[x > 20]) #Mostrará aquellos valores mayores que 20\n",
    "e = x < 15 #Creamos un array lógico\n",
    "print(e)\n",
    "print(x[e]) #Mostrará aquellos valores menores que 15"
   ]
  },
  {
   "cell_type": "markdown",
   "metadata": {},
   "source": [
    "**Ejercicios**\n",
    "\n",
    "Dada una matriz de 4x3 creada aleatoriamente con valores entre 0 y 50.\n",
    "\n",
    "    1.Cuántos números son mayores que 10? Cuántos son menores que 18?\n",
    "    2.Cuántos estan entre 30 y 40?\n",
    "    3.Substituye el valor máximo de la matriz por -1 (*ayuda:* np.amax devuelve el valor mayor de la matriz)"
   ]
  },
  {
   "cell_type": "markdown",
   "metadata": {},
   "source": [
    "## Expresiones matemáticas y funciones útiles\n",
    "\n",
    "Numpy permite evaluar expresiones matematicas y funciones de forma sencilla y eficiente.\n",
    "\n",
    "Por ejemplo:\n",
    "\n",
    "```python\n",
    "\n",
    "x = np.random.randint(10, size=20)\n",
    "\n",
    "add_5_element_wise = x + 5\n",
    "```\n",
    "\n",
    "Suma `5` a cada elemento del array. Esto funciona de forma similar para las funciones aritméticas básicas (+, -, \\*,...)"
   ]
  },
  {
   "cell_type": "code",
   "execution_count": 49,
   "metadata": {},
   "outputs": [
    {
     "data": {
      "text/plain": [
       "[1, 2, 3, 4, 5]"
      ]
     },
     "execution_count": 49,
     "metadata": {},
     "output_type": "execute_result"
    }
   ],
   "source": [
    "lista = [1,2,3,4]\n",
    "lista = lista + [5]\n",
    "lista"
   ]
  },
  {
   "cell_type": "code",
   "execution_count": null,
   "metadata": {
    "collapsed": true
   },
   "outputs": [],
   "source": [
    "# crea un array aleatorio y multiplica cada uno de sus elementos por 3\n",
    "a =np.random.choice??"
   ]
  },
  {
   "cell_type": "code",
   "execution_count": null,
   "metadata": {},
   "outputs": [],
   "source": [
    "a =np.random.choice(np.array([1, 2, 3]), size=(100,))"
   ]
  },
  {
   "cell_type": "code",
   "execution_count": null,
   "metadata": {},
   "outputs": [],
   "source": [
    "a*3"
   ]
  },
  {
   "cell_type": "markdown",
   "metadata": {},
   "source": [
    "### Funciones trigonométricas"
   ]
  },
  {
   "cell_type": "code",
   "execution_count": null,
   "metadata": {},
   "outputs": [],
   "source": [
    "# Crea un vector de 5 elementos espaciados de forma homogenea\n",
    "# entre 0 y pi, ambos incluidos\n",
    "x = np.linspace(0, np.pi, 5)\n",
    "x"
   ]
  },
  {
   "cell_type": "code",
   "execution_count": null,
   "metadata": {},
   "outputs": [],
   "source": [
    "print(x)\n",
    "sin_x = np.sin(x)\n",
    "print(sin_x)"
   ]
  },
  {
   "cell_type": "code",
   "execution_count": null,
   "metadata": {},
   "outputs": [],
   "source": [
    "# demuestra el teorema fundamental de la trigonometria\n",
    "\n",
    "sin_x = np.sin(x)\n",
    "\n",
    "cos_x = np.cos(x)\n",
    "\n",
    "sin_x**2 + cos_x**2"
   ]
  },
  {
   "cell_type": "markdown",
   "metadata": {},
   "source": [
    "## Exponentes y logaritmos"
   ]
  },
  {
   "cell_type": "code",
   "execution_count": null,
   "metadata": {},
   "outputs": [],
   "source": [
    "x = [1, 2, 3]\n",
    "print(\"x     =\", x)\n",
    "print(\"e^x   =\", np.exp(x))\n",
    "print(\"2^x   =\", np.exp2(x))\n",
    "print(\"3^x   =\", np.power(3, x))"
   ]
  },
  {
   "cell_type": "code",
   "execution_count": null,
   "metadata": {},
   "outputs": [],
   "source": [
    "np.power(x, 3)"
   ]
  },
  {
   "cell_type": "code",
   "execution_count": null,
   "metadata": {},
   "outputs": [],
   "source": [
    "x = [1, 2, 4, 10]\n",
    "print(\"x        =\", x)\n",
    "print(\"ln(x)    =\", np.log(x))\n",
    "print(\"log2(x)  =\", np.log2(x))\n",
    "print(\"log10(x) =\", np.log10(x))"
   ]
  },
  {
   "cell_type": "markdown",
   "metadata": {},
   "source": [
    "Unas transformaciones muy útiles cuando lidiamos con valores pequeños son:"
   ]
  },
  {
   "cell_type": "code",
   "execution_count": null,
   "metadata": {},
   "outputs": [],
   "source": [
    "x = [0, 0.001, 0.01, 0.1]\n",
    "print(\"exp(x) - 1 =\", np.expm1(x))\n",
    "print(\"log(1 + x) =\", np.log1p(x))"
   ]
  },
  {
   "cell_type": "markdown",
   "metadata": {},
   "source": [
    "# Funciones estadísticas integradas\n",
    "\n",
    "Numpy permite calcular de forma rápida parametros estadisticos y otras aggregaciones sobre un array"
   ]
  },
  {
   "cell_type": "code",
   "execution_count": 50,
   "metadata": {},
   "outputs": [
    {
     "data": {
      "text/plain": [
       "45"
      ]
     },
     "execution_count": 50,
     "metadata": {},
     "output_type": "execute_result"
    }
   ],
   "source": [
    "# suma de todos los elementos\n",
    "x = np.arange(10)\n",
    "x.sum()\n",
    "suma = 0\n",
    "for i in range(0,10):\n",
    "    suma = suma + x[i]\n",
    "    \n"
   ]
  },
  {
   "cell_type": "code",
   "execution_count": null,
   "metadata": {},
   "outputs": [],
   "source": [
    "# media y desviación estandar\n",
    "\n",
    "print('mean:', x.mean())\n",
    "print('std:', x.std())"
   ]
  },
  {
   "cell_type": "code",
   "execution_count": null,
   "metadata": {},
   "outputs": [],
   "source": [
    "# percentiles\n",
    "np.percentile(x, 50)"
   ]
  },
  {
   "cell_type": "code",
   "execution_count": 51,
   "metadata": {},
   "outputs": [
    {
     "name": "stdout",
     "output_type": "stream",
     "text": [
      "[0 1 2 3 4 5 6 7 8 9]\n",
      "[ 0  1  3  6 10 15 21 28 36 45]\n"
     ]
    }
   ],
   "source": [
    "# la suma acumulada de los valores\n",
    "print(x)\n",
    "print(x.cumsum())"
   ]
  },
  {
   "cell_type": "markdown",
   "metadata": {},
   "source": [
    "## Más madera!\n",
    "Como comentamos con anterioridad, Python posee una gran comunidad de usuarios. De manera colaborativa han creado una lista de ejercicios que nos proponen 100 retos de diferente dificultad. Estos ejercicios se presentan con un sistema de 3 estrellas.\n",
    "\n",
    "Estos problemas os pueden ayudar a aprender diferentes aspectos de esta librería y os recomendamos que intentéis realizar algunos si queréis profundizar en esta.\n",
    "\n",
    "\n",
    "[100 numpy exercises](https://github.com/rougier/numpy-100)"
   ]
  },
  {
   "cell_type": "markdown",
   "metadata": {},
   "source": [
    "# Matplotlib\n",
    "\n",
    "*Matplotlib* permite graficar cosas. ```pyplot``` es una capa que dota a la librería de una sintaxis similar a la de MATLAB.\n",
    "\n",
    "Se complementa a la perfección con [seaborn](http://seaborn.pydata.org/), que nos permitirá hacer además gráficos estadísticos.\n",
    "\n",
    "En conjunto, son un duo muy potente que permite hacer cosas como ésta [código fuente](http://seaborn.pydata.org/examples/structured_heatmap.html):\n",
    "\n",
    "<img src='http://seaborn.pydata.org/_images/structured_heatmap.png' width=500>\n",
    "\n",
    "A medida que vayamos avanzando entraremos en más detalle sobre los diferentes tipos de gráficos. Por ahora, nos limitaremos a hablar sobre los básicos:\n",
    "\n",
    "- Lineas\n",
    "- Barras e Histogramas\n",
    "- Scatter plots"
   ]
  },
  {
   "cell_type": "code",
   "execution_count": 4,
   "metadata": {},
   "outputs": [],
   "source": [
    "%matplotlib inline\n",
    "\n",
    "import matplotlib.pyplot as plt\n",
    "import seaborn as sns"
   ]
  },
  {
   "cell_type": "markdown",
   "metadata": {},
   "source": [
    "# Line plot example\n",
    "\n",
    "Matplotlib puede crear graficos X-Y basicos a partir de arrays o listas del mismo tamaño. Si solo le diesemos una lista o array, la graficaría contra su indice.\n",
    "\n",
    "Cada vez que llamamos a plt.plot() nos sobrepone una nueva curva en la misma figura. Si quisieramos una nueva, deberíamos especificar 'plt.figure()' para crear una nueva."
   ]
  },
  {
   "cell_type": "code",
   "execution_count": 58,
   "metadata": {
    "scrolled": true
   },
   "outputs": [
    {
     "name": "stdout",
     "output_type": "stream",
     "text": [
      "(5, 100)\n"
     ]
    },
    {
     "data": {
      "image/png": "[encoded data removed]",
      "text/plain": [
       "<matplotlib.figure.Figure at 0x7f08dd24a780>"
      ]
     },
     "metadata": {},
     "output_type": "display_data"
    }
   ],
   "source": [
    "xs = np.random.randn(5, 100)\n",
    "\n",
    "plt.title(\"Brownian Motion\")\n",
    "bms = xs.cumsum(axis=1)\n",
    "print(bms.shape)\n",
    "for bm in bms:\n",
    "    plt.plot(bm)\n",
    "plt.show()"
   ]
  },
  {
   "cell_type": "markdown",
   "metadata": {},
   "source": [
    "[wiki brownian motion](https://en.wikipedia.org/wiki/Brownian_motion)"
   ]
  },
  {
   "cell_type": "markdown",
   "metadata": {},
   "source": [
    "### Subplots\n",
    "\n",
    "Muchas veces querremos tener los gráficos por separado. La forma más sencilla de generarlos es usando el comando sublplots y especificando el numero de filas y/o columnas en los que queremos que se dividan.\n",
    "\n",
    "```python\n",
    "\n",
    "fig, ax = plt.subplots(nrows=2,\n",
    "                       ncols=3,\n",
    "                       sharex=True,\n",
    "                       sharey=True)\n",
    "```\n",
    "`ax` es un np.array de (nrows, ncols) al que podremos acceder por los indices para poder \"colocar\" los plots que queramos.\n",
    "                       \n",
    "                    "
   ]
  },
  {
   "cell_type": "code",
   "execution_count": 59,
   "metadata": {},
   "outputs": [
    {
     "data": {
      "image/png": "[encoded data removed]",
      "text/plain": [
       "<matplotlib.figure.Figure at 0x7f08dd1ec160>"
      ]
     },
     "metadata": {},
     "output_type": "display_data"
    }
   ],
   "source": [
    "fig, ax = plt.subplots(nrows=2,\n",
    "                       sharex=True,\n",
    "                       sharey=True)\n",
    "for i in range(2):\n",
    "    ax[i].plot(np.random.randn(100))"
   ]
  },
  {
   "cell_type": "markdown",
   "metadata": {},
   "source": [
    "## Histogram and bar plot\n",
    "\n",
    "Aunque *matplotlib* tiene funcionalidad para histogramas, los de seaborn ofrecen una funcionaliad más completa."
   ]
  },
  {
   "cell_type": "code",
   "execution_count": 7,
   "metadata": {},
   "outputs": [
    {
     "name": "stdout",
     "output_type": "stream",
     "text": [
      "[4.45495651 1.68069607 2.55105832 ... 3.11906555 3.68219935 7.54672106]\n"
     ]
    },
    {
     "data": {
      "image/png": "[encoded data removed]",
      "text/plain": [
       "<Figure size 432x288 with 2 Axes>"
      ]
     },
     "metadata": {},
     "output_type": "display_data"
    }
   ],
   "source": [
    "# matplotlib\n",
    "\n",
    "data = np.random.gamma(4.5, 1.0, 10000)\n",
    "print(data)\n",
    "fig, ax = plt.subplots(ncols=2)\n",
    "\n",
    "ax[0].boxplot(data)\n",
    "ax[1].hist(data)\n",
    "\n",
    "plt.show()"
   ]
  },
  {
   "cell_type": "code",
   "execution_count": null,
   "metadata": {},
   "outputs": [],
   "source": [
    "# seaborn\n",
    "# matplotlib\n",
    "data = np.random.gamma(4.5, 1.0, 10000)\n",
    "\n",
    "fig, ax = plt.subplots(ncols=3, figsize=(20, 12))\n",
    "sns.boxplot(data, ax=ax[0], orient='v')\n",
    "sns.violinplot(data, ax=ax[1], orient='v')\n",
    "sns.distplot(data, ax=ax[2])\n",
    "plt.show()"
   ]
  },
  {
   "cell_type": "markdown",
   "metadata": {},
   "source": [
    "## Scatter plots\n",
    "Necesitamos dos arrays o listas del mismo tamaño para poder plotear una contra la otra"
   ]
  },
  {
   "cell_type": "code",
   "execution_count": 63,
   "metadata": {},
   "outputs": [
    {
     "data": {
      "image/png": "[encoded data removed]",
      "text/plain": [
       "<matplotlib.figure.Figure at 0x7f08dd0d0470>"
      ]
     },
     "metadata": {},
     "output_type": "display_data"
    }
   ],
   "source": [
    "x = np.random.normal(size=1000)\n",
    "y = np.random.normal(size=1000)\n",
    "\n",
    "plt.scatter(x, y, c='r') #, alpha=0.2)\n",
    "plt.show()"
   ]
  },
  {
   "cell_type": "code",
   "execution_count": null,
   "metadata": {},
   "outputs": [],
   "source": [
    "sns.jointplot(x=x, y=y, kind='kde')"
   ]
  },
  {
   "cell_type": "code",
   "execution_count": null,
   "metadata": {},
   "outputs": [],
   "source": [
    "## Genera un sinusoide y añadele ruido aleatorio gaussiano.\n",
    "## con media=0 y std=0.1 y grafícalo.\n",
    "\n",
    "x = np.linspace(0, 4*np.pi, 1000)\n",
    "print(x)"
   ]
  },
  {
   "cell_type": "code",
   "execution_count": null,
   "metadata": {},
   "outputs": [],
   "source": [
    "y_real = np.sin(x)\n",
    "print(y_real)"
   ]
  },
  {
   "cell_type": "code",
   "execution_count": null,
   "metadata": {
    "collapsed": true
   },
   "outputs": [],
   "source": [
    "noise = np.random.normal(0, 0.1, size=1000)"
   ]
  },
  {
   "cell_type": "code",
   "execution_count": null,
   "metadata": {
    "collapsed": true
   },
   "outputs": [],
   "source": [
    "y_noise = y_real + noise"
   ]
  },
  {
   "cell_type": "code",
   "execution_count": null,
   "metadata": {},
   "outputs": [],
   "source": [
    "plt.scatter(x, y_noise)"
   ]
  }
 ],
 "metadata": {
  "anaconda-cloud": {},
  "kernelspec": {
   "display_name": "Python 3",
   "language": "python",
   "name": "python3"
  },
  "language_info": {
   "codemirror_mode": {
    "name": "ipython",
    "version": 3
   },
   "file_extension": ".py",
   "mimetype": "text/x-python",
   "name": "python",
   "nbconvert_exporter": "python",
   "pygments_lexer": "ipython3",
   "version": "3.6.5"
  }
 },
 "nbformat": 4,
 "nbformat_minor": 2
}
