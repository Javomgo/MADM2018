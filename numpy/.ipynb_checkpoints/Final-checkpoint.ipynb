{
 "cells": [
  {
   "cell_type": "markdown",
   "metadata": {},
   "source": [
    "## Ejercicio final\n",
    "En este ejercicio tiene un conjunto de datos generado de forma artificial, deberá aplicar los conceptos vistos durante las dos primeras sesiones del curso"
   ]
  },
  {
   "cell_type": "code",
   "execution_count": 1,
   "metadata": {},
   "outputs": [],
   "source": [
    "# Librerias necessarias\n",
    "\n",
    "import numpy as np\n",
    "import matplotlib.pyplot as plt\n",
    "from sklearn import datasets\n",
    "from sklearn.decomposition import PCA\n",
    "from sklearn.datasets import make_classification"
   ]
  },
  {
   "cell_type": "code",
   "execution_count": 2,
   "metadata": {},
   "outputs": [],
   "source": [
    "# Importamos los datos\n",
    "dataset, classes = make_classification(n_samples=np.random.randint(200,250), n_features=6, n_informative=2, n_redundant=0, n_repeated=0, n_classes=4, n_clusters_per_class=1,  random_state=33)"
   ]
  },
  {
   "cell_type": "markdown",
   "metadata": {},
   "source": [
    "**Describe el dataset**\n",
    "\n",
    "¿Cuantas características tiene?\n",
    "¿Cuantas observaciones?\n"
   ]
  },
  {
   "cell_type": "markdown",
   "metadata": {},
   "source": [
    "Caracteristicas = 6\n",
    "Observaciones = Entre 200 y 250 de manera aleatoria"
   ]
  },
  {
   "cell_type": "markdown",
   "metadata": {},
   "source": [
    "### Selección\n",
    "    1.Realiza una selección que tenga todas las filas pero sólo las columnas pares\n",
    "    2.Realiza una selección que sea el resultado de seleccionar las primeras 10 filas\n",
    "    3.Realiza una selección  que sea el resultado de seleccionar las últimas 10 filas\n",
    "    4.Realiza una selección  que sea el resultado de seleccionar  10 filas de forma aleatoria\n",
    "    5.Realiza una selección de las columnas 3 a la 5 y de las filas 150 a la 160"
   ]
  },
  {
   "cell_type": "code",
   "execution_count": 5,
   "metadata": {},
   "outputs": [
    {
     "name": "stdout",
     "output_type": "stream",
     "text": [
      "[[-0.64053719  0.00646073 -0.10763667  0.8641604  -0.05091881 -1.30942329]\n",
      " [-2.08102641  0.53217234 -1.59589627  0.90896241 -0.76028626 -1.34983584]\n",
      " [ 0.65600738  0.64406194  0.36327988  0.45139615  0.27327203  1.19637217]\n",
      " ...\n",
      " [ 1.62868312 -0.36200168 -1.93549676  1.00229968 -0.36148233 -0.9195479 ]\n",
      " [ 1.01383673  0.77795609 -0.21363566 -0.89590629 -1.00876055  2.14080488]\n",
      " [ 1.27694989 -1.16095246 -0.11489854 -0.65673791 -0.63728741  0.43460144]]\n"
     ]
    },
    {
     "data": {
      "text/plain": [
       "array([[ 0.00646073,  0.8641604 , -1.30942329],\n",
       "       [ 0.53217234,  0.90896241, -1.34983584],\n",
       "       [ 0.64406194,  0.45139615,  1.19637217],\n",
       "       [-0.3536091 , -3.22818305, -0.79296405],\n",
       "       [-0.14857827, -2.34495124, -2.4270287 ],\n",
       "       [-0.3435648 , -0.6503019 ,  0.83123531],\n",
       "       [ 0.65878021,  0.76492969, -1.66103638],\n",
       "       [-0.29099263,  0.90727264, -1.39435788],\n",
       "       [ 0.2699043 , -2.48957307,  2.15367446],\n",
       "       [ 0.41983898, -2.18184778,  1.99351824],\n",
       "       [ 0.21454192, -0.67253053, -1.06057469],\n",
       "       [ 0.10583323, -1.21431211,  1.40556983],\n",
       "       [ 0.34336852,  0.80827545,  1.13085864],\n",
       "       [-1.22959752, -1.2144878 , -0.25709921],\n",
       "       [ 1.77560342,  0.62819562, -2.2441216 ],\n",
       "       [ 2.23150549,  2.36327038,  1.39022915],\n",
       "       [ 0.50287336,  0.79505262, -1.70246408],\n",
       "       [-0.82204319,  0.17780577, -0.89436022],\n",
       "       [-0.49777682,  0.99109019, -0.95190897],\n",
       "       [ 1.31871647,  1.1418249 , -0.65913597],\n",
       "       [-0.79675363, -0.84212759,  1.43061117],\n",
       "       [ 0.09408533, -2.03045417,  0.66238625],\n",
       "       [ 0.25068953,  1.09332595, -0.16683157],\n",
       "       [-2.69258304, -0.05926471,  0.51828619],\n",
       "       [-0.12533491,  1.61168273,  0.33472613],\n",
       "       [-0.65972449, -1.80765008, -0.05153316],\n",
       "       [ 0.08717377, -1.83880828, -2.49916052],\n",
       "       [ 0.25642916,  0.38149767,  1.69909907],\n",
       "       [ 0.93018727,  0.45731419,  0.91391815],\n",
       "       [ 0.29911592, -0.77043448, -0.33038419],\n",
       "       [ 0.23668249,  1.73769556,  1.35251335],\n",
       "       [-0.2884397 ,  1.25950771, -0.0355661 ],\n",
       "       [-0.15407094,  1.11566669, -0.50546313],\n",
       "       [ 1.42521716, -2.66776189,  0.52056894],\n",
       "       [-0.10026037,  0.02930973,  0.20571914],\n",
       "       [-0.09421651,  1.44067314, -0.23517754],\n",
       "       [ 0.91399242,  1.20518357, -0.3078896 ],\n",
       "       [ 1.43274463,  0.77793175,  0.41182016],\n",
       "       [ 0.24072823, -1.87372885, -1.11829352],\n",
       "       [-0.38035384,  1.85340836,  0.9130747 ],\n",
       "       [ 1.01356087, -2.01689972,  1.92942499],\n",
       "       [-1.17108376,  0.76058674,  0.80624657],\n",
       "       [ 0.40244173, -1.40446836,  0.91674626],\n",
       "       [ 1.7663448 , -0.1370012 , -0.93810972],\n",
       "       [-1.80227946, -1.55703248,  1.36816287],\n",
       "       [-0.29960082, -1.60876835,  0.92430679],\n",
       "       [ 0.69151507,  1.00036543, -1.0604905 ],\n",
       "       [ 1.659756  ,  0.65455286,  1.16569046],\n",
       "       [ 1.29222419, -1.14101819,  0.65082674],\n",
       "       [ 0.41080362, -0.29991092,  1.29882796],\n",
       "       [-0.46277825,  1.13513334, -0.25156643],\n",
       "       [-0.45400222,  1.04056926, -0.77458204],\n",
       "       [ 0.88677141, -2.05232119,  1.05561587],\n",
       "       [-0.16024828, -0.44384863, -1.99013837],\n",
       "       [-0.46993397,  0.07265943, -1.53735215],\n",
       "       [-0.1613375 ,  0.96164748, -1.0744765 ],\n",
       "       [ 2.13669714, -0.10176276, -1.39637438],\n",
       "       [-0.24711501, -0.72312916,  1.46429528],\n",
       "       [ 0.93296906,  0.77452605,  0.61175381],\n",
       "       [ 0.42033563, -1.2102007 ,  2.43166075],\n",
       "       [-0.17691974,  0.16740807,  3.28072765],\n",
       "       [-0.21364615, -3.08941497, -2.19293789],\n",
       "       [ 1.82671006, -0.35856603, -1.21443746],\n",
       "       [-0.95709427, -1.42285412,  1.84925158],\n",
       "       [-0.16854107,  0.97625771, -1.05915605],\n",
       "       [ 0.15373086, -1.17886366,  2.95922079],\n",
       "       [ 1.02300317,  1.64543202,  0.00484205],\n",
       "       [ 0.22769808,  0.95751428, -1.06608394],\n",
       "       [ 0.15730426, -0.72520818, -0.96909397],\n",
       "       [ 1.08037112,  1.58659695,  1.02750541],\n",
       "       [-0.4261421 , -0.30442329, -0.44080637],\n",
       "       [-0.26685943,  0.87863494, -1.59117102],\n",
       "       [ 0.8845323 ,  0.89888592, -1.29231418],\n",
       "       [-0.61384749, -0.8399789 , -1.18679485],\n",
       "       [ 2.13178431,  0.83246762, -1.42871849],\n",
       "       [ 0.37730597,  0.97112297, -1.28866537],\n",
       "       [-0.70901107,  0.93479206,  0.60752344],\n",
       "       [ 0.51389177, -1.30108188,  0.60550203],\n",
       "       [ 1.40482141,  1.17246429, -0.51579567],\n",
       "       [ 0.10757943,  1.04644959, -0.98866388],\n",
       "       [-1.19606466,  1.01177283, -0.99956257],\n",
       "       [-0.21992944, -0.50093643, -1.40352849],\n",
       "       [-0.60283778,  0.31433965, -1.42767543],\n",
       "       [ 0.11265187, -2.1650933 , -0.75176669],\n",
       "       [-0.10897386,  0.86363532, -1.41900163],\n",
       "       [ 0.86203736,  0.14910303,  0.76790075],\n",
       "       [-1.87208957, -2.89744878,  0.00991057],\n",
       "       [-0.22622804, -0.87054718, -0.12310474],\n",
       "       [ 1.63882548, -0.85193111, -0.71864669],\n",
       "       [ 1.49241424,  0.85771841,  0.55806649],\n",
       "       [ 0.78001725,  0.83875952,  1.23665503],\n",
       "       [ 0.05283598, -0.53369635,  0.55176673],\n",
       "       [ 0.37087881, -2.11464518, -0.32332927],\n",
       "       [ 0.11558518,  0.22435443,  0.90734805],\n",
       "       [ 0.32247077, -0.94940508, -0.85565104],\n",
       "       [-0.58037152, -0.44628459, -0.38349834],\n",
       "       [ 0.85776741, -0.75902133,  0.63052004],\n",
       "       [-0.12784639, -1.12185956, -2.15236898],\n",
       "       [-0.36311683,  1.23029256, -0.04626326],\n",
       "       [ 0.02566972,  0.85407793,  1.23269753],\n",
       "       [-1.6956173 , -1.75092986,  2.73144985],\n",
       "       [-1.4519369 , -1.73460486,  1.55690005],\n",
       "       [-0.12341319,  1.07651163, -0.62816626],\n",
       "       [-0.23167321, -1.74603678,  0.66669348],\n",
       "       [-0.64710833,  0.96817929, -1.26078385],\n",
       "       [ 0.7470859 , -1.26021004, -0.04524957],\n",
       "       [-1.15907755,  1.35234367,  0.50341386],\n",
       "       [-0.85330398,  1.55912359,  0.68671688],\n",
       "       [-1.5654989 ,  1.02988329, -1.3151593 ],\n",
       "       [-1.28700042, -1.30763555, -1.04956822],\n",
       "       [ 0.1562046 , -1.20911488, -2.91672568],\n",
       "       [ 0.88166123,  0.22228445,  1.81159153],\n",
       "       [ 0.18936722,  0.94951683,  1.74676079],\n",
       "       [ 1.69007885, -1.53955609,  1.83809559],\n",
       "       [ 0.76403469, -2.18936932,  0.40687281],\n",
       "       [-1.21207647, -0.56996496,  2.68851849],\n",
       "       [-0.8681824 ,  0.38785633,  0.64459303],\n",
       "       [ 0.39995547, -1.34286283,  1.28972151],\n",
       "       [ 0.83052775, -1.55102341,  0.32812   ],\n",
       "       [-0.60055969,  1.34625813,  0.1233387 ],\n",
       "       [ 0.15325419,  0.90554322, -1.36366105],\n",
       "       [ 0.51125543, -0.53482084, -1.84100097],\n",
       "       [ 0.74500928, -1.33733418, -1.62522008],\n",
       "       [ 0.00572875,  0.63372526, -0.99288682],\n",
       "       [ 0.6372042 , -0.90594126,  1.32063279],\n",
       "       [-1.19620633, -3.35644879,  4.42169325],\n",
       "       [ 0.79696687, -1.52918042, -1.76843666],\n",
       "       [ 0.51063712,  2.30900751,  1.12516408],\n",
       "       [ 0.99649758,  1.04141897, -0.65761611],\n",
       "       [-0.53410072, -1.86939132,  0.12809925],\n",
       "       [-0.21706462, -1.71600822,  1.87300926],\n",
       "       [ 0.28939535, -0.71735339, -1.58113025],\n",
       "       [-0.16555566,  1.33498755,  1.18203876],\n",
       "       [ 0.24304118,  1.2362214 ,  1.02271415],\n",
       "       [ 0.09893796, -0.53176631, -1.63844781],\n",
       "       [-0.44741588,  1.01757077, -0.93048612],\n",
       "       [ 0.62464504,  0.96915643, -1.16127464],\n",
       "       [ 0.40354622,  0.26514951,  1.54367944],\n",
       "       [ 0.04191697,  0.83762815, -1.56381824],\n",
       "       [ 1.1859816 ,  1.00409843, -1.14920717],\n",
       "       [ 0.34183479, -1.75014475,  0.92306569],\n",
       "       [-0.10161128,  1.27148474, -0.10713087],\n",
       "       [-0.1248681 , -0.47107921, -1.52815359],\n",
       "       [-2.14820152, -0.80802841,  1.13213824],\n",
       "       [-1.77137007,  0.40240489, -0.10858756],\n",
       "       [-2.21084522,  1.33652701, -0.12734264],\n",
       "       [ 0.86067322, -1.66905535, -0.77369084],\n",
       "       [ 1.08229628,  0.89857675,  1.03083944],\n",
       "       [ 0.74990141, -1.50471442,  0.43050953],\n",
       "       [ 0.31012809,  0.73252931,  1.60083892],\n",
       "       [ 0.77515893,  0.77111721,  0.74496099],\n",
       "       [-1.12212271,  0.96355423, -1.0394362 ],\n",
       "       [ 1.26241262, -1.00274922, -2.06312913],\n",
       "       [-0.19047603, -0.78313625, -0.76702591],\n",
       "       [-0.71191356, -0.21955602, -0.11260488],\n",
       "       [ 0.79445068,  1.3013609 ,  0.04583391],\n",
       "       [-2.21638003,  0.23574421,  1.07279337],\n",
       "       [ 0.82061785,  1.09428297, -0.6612462 ],\n",
       "       [-0.27170141,  0.31314754,  0.61801163],\n",
       "       [ 0.60667898, -1.12743255, -0.14532804],\n",
       "       [-1.06762744,  1.03972677, -1.02510322],\n",
       "       [ 0.56403313,  0.84347455,  1.0149241 ],\n",
       "       [ 0.72929837, -1.60031255,  2.57507133],\n",
       "       [-0.80349813,  0.39116068,  1.56622706],\n",
       "       [ 0.95573909, -0.1443324 , -0.01448077],\n",
       "       [ 0.72998643, -0.90399803, -2.09157712],\n",
       "       [ 0.44868146,  1.20940036,  1.2111849 ],\n",
       "       [ 1.45610089,  1.19686415, -0.38495474],\n",
       "       [-0.04962661,  1.07459524, -1.04542148],\n",
       "       [ 1.38663288, -1.583244  , -1.26121427],\n",
       "       [ 0.74409271, -1.39659894, -0.07795925],\n",
       "       [-0.06619606,  1.10316632, -0.8836855 ],\n",
       "       [-0.42855539,  1.85627436,  1.91333526],\n",
       "       [-0.46915117, -0.62384567,  0.6761147 ],\n",
       "       [-0.05039056,  0.43212889,  1.7452595 ],\n",
       "       [-0.03951766,  2.20873867,  0.95948777],\n",
       "       [-0.5161737 ,  1.91333295,  0.37087688],\n",
       "       [ 0.95082203, -0.07431864, -0.35663725],\n",
       "       [ 1.48209061,  0.80806065, -1.70232991],\n",
       "       [ 0.13515352,  1.00537394,  1.05032317],\n",
       "       [-1.53088214,  1.44944298,  0.39436472],\n",
       "       [-0.78705074,  0.14216501,  1.52308125],\n",
       "       [-0.31937145, -1.32130669, -1.80580446],\n",
       "       [-0.83081899, -0.95285223, -1.92374971],\n",
       "       [-0.43854931, -2.40660697, -1.42132354],\n",
       "       [-1.02116912, -1.61296993, -1.88971566],\n",
       "       [ 0.44110563,  0.16139697,  0.59837724],\n",
       "       [ 0.54514886, -1.02760905,  1.12191397],\n",
       "       [ 0.90723522,  1.02137222, -0.85478453],\n",
       "       [-0.07911474,  0.61452288,  1.39963736],\n",
       "       [-0.04115126, -1.5387157 , -1.18614126],\n",
       "       [-1.21290866, -0.17930931,  0.39739279],\n",
       "       [-1.36607363,  0.98498973, -1.29751753],\n",
       "       [-0.86271188, -0.58669501, -0.90530891],\n",
       "       [-0.25176361,  1.30771072, -0.1840127 ],\n",
       "       [-0.95401056, -1.45028984,  0.81097691],\n",
       "       [-0.55044309,  0.94295746,  0.97581335],\n",
       "       [-1.89047664,  0.35492461,  1.43615709],\n",
       "       [ 0.43938974,  1.32313109,  0.05784589],\n",
       "       [ 0.18286504, -0.30142483,  2.59387936],\n",
       "       [-1.81193491,  1.27035188,  1.32775628],\n",
       "       [ 1.42872085,  1.07344795, -0.41414099],\n",
       "       [ 0.44018218,  0.9792916 , -1.24966319],\n",
       "       [ 0.90969957, -0.67631762,  1.2124862 ],\n",
       "       [-0.93047388, -2.6341512 , -2.16143762],\n",
       "       [-0.01840438,  1.11660268,  0.21811049],\n",
       "       [ 0.46257372,  1.22864083, -0.19248127],\n",
       "       [ 0.44017948,  0.94663866, -1.07324974],\n",
       "       [ 0.45852112, -2.07622242,  0.72413936],\n",
       "       [-0.44064812, -0.04248524, -0.41870425],\n",
       "       [-0.36200168,  1.00229968, -0.9195479 ],\n",
       "       [ 0.77795609, -0.89590629,  2.14080488],\n",
       "       [-1.16095246, -0.65673791,  0.43460144]])"
      ]
     },
     "execution_count": 5,
     "metadata": {},
     "output_type": "execute_result"
    }
   ],
   "source": [
    "#1\n",
    "print(dataset)\n",
    "dataset[:,1::2]"
   ]
  },
  {
   "cell_type": "code",
   "execution_count": 6,
   "metadata": {},
   "outputs": [
    {
     "data": {
      "text/plain": [
       "array([[-0.64053719,  0.00646073, -0.10763667,  0.8641604 , -0.05091881,\n",
       "        -1.30942329],\n",
       "       [-2.08102641,  0.53217234, -1.59589627,  0.90896241, -0.76028626,\n",
       "        -1.34983584],\n",
       "       [ 0.65600738,  0.64406194,  0.36327988,  0.45139615,  0.27327203,\n",
       "         1.19637217],\n",
       "       [ 1.38618536, -0.3536091 , -1.40705489, -3.22818305, -1.10683347,\n",
       "        -0.79296405],\n",
       "       [-0.79503805, -0.14857827,  0.9649492 , -2.34495124,  0.41640711,\n",
       "        -2.4270287 ],\n",
       "       [-0.05853454, -0.3435648 , -0.73709496, -0.6503019 ,  0.24169189,\n",
       "         0.83123531],\n",
       "       [ 1.01801606,  0.65878021,  0.43746164,  0.76492969, -1.46053761,\n",
       "        -1.66103638],\n",
       "       [ 0.7516328 , -0.29099263, -0.01733331,  0.90727264, -0.79516681,\n",
       "        -1.39435788],\n",
       "       [-1.36474967,  0.2699043 , -0.93845178, -2.48957307,  0.45575737,\n",
       "         2.15367446],\n",
       "       [ 1.13421872,  0.41983898,  0.27100852, -2.18184778,  1.01871512,\n",
       "         1.99351824]])"
      ]
     },
     "execution_count": 6,
     "metadata": {},
     "output_type": "execute_result"
    }
   ],
   "source": [
    "#2\n",
    "dataset[:10,:]"
   ]
  },
  {
   "cell_type": "code",
   "execution_count": 7,
   "metadata": {},
   "outputs": [
    {
     "data": {
      "text/plain": [
       "array([[ 1.27694989, -1.16095246, -0.11489854, -0.65673791, -0.63728741,\n",
       "         0.43460144]])"
      ]
     },
     "execution_count": 7,
     "metadata": {},
     "output_type": "execute_result"
    }
   ],
   "source": [
    "#3\n",
    "dataset.shape\n",
    "dataset[212:222,:]"
   ]
  },
  {
   "cell_type": "code",
   "execution_count": 8,
   "metadata": {},
   "outputs": [
    {
     "data": {
      "text/plain": [
       "array([[-0.83878039, -0.44064812, -1.36952065, -0.04248524,  0.87188763,\n",
       "        -0.41870425],\n",
       "       [ 0.9156365 , -0.29960082, -0.28915339, -1.60876835,  1.0410937 ,\n",
       "         0.92430679],\n",
       "       [-2.02146261,  0.1562046 ,  0.233914  , -1.20911488, -0.85437404,\n",
       "        -2.91672568],\n",
       "       [-0.83878039, -0.44064812, -1.36952065, -0.04248524,  0.87188763,\n",
       "        -0.41870425],\n",
       "       [-0.41699284,  0.90969957,  0.9619713 , -0.67631762, -2.4662336 ,\n",
       "         1.2124862 ],\n",
       "       [-0.12639647, -1.17108376, -0.27558749,  0.76058674,  0.54731891,\n",
       "         0.80624657],\n",
       "       [ 0.34118148,  0.50287336,  0.08003067,  0.79505262, -1.26486367,\n",
       "        -1.70246408],\n",
       "       [-1.70298618, -0.95401056, -0.30563994, -1.45028984, -0.02790499,\n",
       "         0.81097691],\n",
       "       [-0.41669021, -0.46277825, -0.69965698,  1.13513334,  0.53824652,\n",
       "        -0.25156643],\n",
       "       [-0.84656928, -1.22959752, -1.02445745, -1.2144878 , -0.41958138,\n",
       "        -0.25709921]])"
      ]
     },
     "execution_count": 8,
     "metadata": {},
     "output_type": "execute_result"
    }
   ],
   "source": [
    "#4\n",
    "ds_aleat=dataset[np.random.choice(222),:]\n",
    "for i in range(0,9):\n",
    "    ds_aleat=np.vstack([ds_aleat,dataset[np.random.choice(222),:]])\n",
    "ds_aleat"
   ]
  },
  {
   "cell_type": "code",
   "execution_count": 9,
   "metadata": {},
   "outputs": [
    {
     "data": {
      "text/plain": [
       "array([[-0.35749954,  0.73252931, -1.16730749],\n",
       "       [-0.31268408,  0.77111721,  0.60188696],\n",
       "       [ 0.0919775 ,  0.96355423,  0.88849904],\n",
       "       [-0.71803233, -1.00274922, -0.52065722],\n",
       "       [ 0.91638532, -0.78313625,  0.13137214],\n",
       "       [-0.85551598, -0.21955602,  0.73368313],\n",
       "       [ 0.50066387,  1.3013609 ,  0.65802281],\n",
       "       [-0.71714036,  0.23574421, -0.31378968],\n",
       "       [ 0.41889275,  1.09428297, -0.10431814],\n",
       "       [ 1.00772076,  0.31314754, -1.44785781],\n",
       "       [-0.03334746, -1.12743255, -1.00238478]])"
      ]
     },
     "execution_count": 9,
     "metadata": {},
     "output_type": "execute_result"
    }
   ],
   "source": [
    "#5\n",
    "dataset[149:160,2:5]"
   ]
  },
  {
   "cell_type": "markdown",
   "metadata": {},
   "source": [
    "### Selección condicional\n",
    "\n",
    "    6.Crea un nuevo subconjunto que solamente contenga las muestras que pertenecen a la clase \n",
    "    7.¿Cuántas muestras tenemos de esta clase?\n",
    "    8.Selecciona todas filas cuyos valores de la tercera columna sean positivos"
   ]
  },
  {
   "cell_type": "code",
   "execution_count": 10,
   "metadata": {},
   "outputs": [
    {
     "data": {
      "text/plain": [
       "53"
      ]
     },
     "execution_count": 10,
     "metadata": {},
     "output_type": "execute_result"
    }
   ],
   "source": [
    "#6\n",
    "ds_4=dataset[classes==3]\n",
    "#7\n",
    "ds_4.shape[0]"
   ]
  },
  {
   "cell_type": "code",
   "execution_count": 11,
   "metadata": {},
   "outputs": [
    {
     "data": {
      "text/plain": [
       "array([[ 0.65600738,  0.64406194,  0.36327988,  0.45139615,  0.27327203,\n",
       "         1.19637217],\n",
       "       [-0.65408585,  0.34336852,  1.76562771,  0.80827545, -2.04043677,\n",
       "         1.13085864],\n",
       "       [ 0.18348811,  0.25068953,  0.22560785,  1.09332595,  0.26387248,\n",
       "        -0.16683157],\n",
       "       [-1.09790235,  0.93018727,  1.27914408,  0.45731419, -1.60771031,\n",
       "         0.91391815],\n",
       "       [-0.95643584, -0.38035384,  1.64973737,  1.85340836,  0.47280366,\n",
       "         0.9130747 ],\n",
       "       [-1.43526353,  1.659756  ,  1.13822941,  0.65455286,  0.57925647,\n",
       "         1.16569046],\n",
       "       [ 1.5140217 ,  0.41080362,  2.44599718, -0.29991092,  0.42446357,\n",
       "         1.29882796],\n",
       "       [-0.15734085,  0.93296906,  1.10311666,  0.77452605, -0.3154107 ,\n",
       "         0.61175381],\n",
       "       [-0.51775169, -0.70901107,  0.57093777,  0.93479206,  1.29752153,\n",
       "         0.60752344],\n",
       "       [ 0.8560483 ,  0.86203736,  1.18749179,  0.14910303,  1.59280092,\n",
       "         0.76790075],\n",
       "       [-0.83412562,  1.49241424,  1.41646595,  0.85771841, -0.82638094,\n",
       "         0.55806649],\n",
       "       [-0.4726087 ,  0.18936722,  1.51276176,  0.94951683,  0.8410788 ,\n",
       "         1.74676079],\n",
       "       [-1.6387625 ,  0.51063712,  0.17402601,  2.30900751,  0.13010989,\n",
       "         1.12516408],\n",
       "       [ 1.10726563,  1.08229628,  0.25495872,  0.89857675,  0.45393502,\n",
       "         1.03083944],\n",
       "       [ 0.83674173,  0.56403313,  0.52414731,  0.84347455, -0.50715751,\n",
       "         1.0149241 ],\n",
       "       [-0.87736573, -0.42855539,  0.3356252 ,  1.85627436, -0.52146909,\n",
       "         1.91333526],\n",
       "       [-0.40074283, -0.03951766,  0.40757072,  2.20873867, -1.4165855 ,\n",
       "         0.95948777],\n",
       "       [ 0.01466538,  0.13515352,  0.63430071,  1.00537394, -1.15120295,\n",
       "         1.05032317],\n",
       "       [-0.54261257, -1.53088214,  0.12026781,  1.44944298, -1.37785436,\n",
       "         0.39436472],\n",
       "       [ 0.71260979,  0.44110563,  0.9417809 ,  0.16139697,  1.03555062,\n",
       "         0.59837724],\n",
       "       [-0.98356194, -0.07911474,  1.23870799,  0.61452288,  0.6875992 ,\n",
       "         1.39963736],\n",
       "       [ 1.70442598, -0.55044309,  0.81027689,  0.94295746,  0.71191984,\n",
       "         0.97581335]])"
      ]
     },
     "execution_count": 11,
     "metadata": {},
     "output_type": "execute_result"
    }
   ],
   "source": [
    "#8\n",
    "ds_4pos=ds_4[ds_4[:,2]>0]\n",
    "ds_4pos"
   ]
  },
  {
   "cell_type": "markdown",
   "metadata": {},
   "source": [
    "### Funciones de numpy\n",
    "    09.Muestra el valor mínimo, el valor máximo y la media de cada columna.\n",
    "    10.Guárdalo en una matriz de dimensiones 3x6\n",
    "    11.Puedes programar una sentencia que nos diga cuál de las clases tiene el valor más alto? ** [Difícil] (El mayor màximo)"
   ]
  },
  {
   "cell_type": "code",
   "execution_count": 21,
   "metadata": {},
   "outputs": [
    {
     "name": "stdout",
     "output_type": "stream",
     "text": [
      "[-2.33684411 -2.69258304 -2.62600405 -3.35644879 -2.48928826 -2.91672568]\n",
      "[2.38401539 2.23150549 2.44599718 2.36327038 2.77553547 4.42169325]\n",
      "[-0.02256778  0.05790883 -0.12396312 -0.06755308  0.03103662  0.01467574]\n"
     ]
    }
   ],
   "source": [
    "#9\n",
    "\n",
    "print(np.amin (dataset, axis=0))\n",
    "print(np.amax (dataset, axis=0))\n",
    "print(np.mean (dataset, axis=0))"
   ]
  },
  {
   "cell_type": "code",
   "execution_count": 17,
   "metadata": {},
   "outputs": [
    {
     "data": {
      "text/plain": [
       "array([[-2.33684411, -2.69258304, -2.62600405, -3.35644879, -2.48928826,\n",
       "        -2.91672568],\n",
       "       [ 2.38401539,  2.23150549,  2.44599718,  2.36327038,  2.77553547,\n",
       "         4.42169325],\n",
       "       [-0.02256778,  0.05790883, -0.12396312, -0.06755308,  0.03103662,\n",
       "         0.01467574]])"
      ]
     },
     "execution_count": 17,
     "metadata": {},
     "output_type": "execute_result"
    }
   ],
   "source": [
    "#10\n",
    "\n",
    "min_max_av[0] = np.amin (dataset, axis=0)\n",
    "min_max_av[1] = np.amax (dataset, axis=0)\n",
    "min_max_av[2] = np.mean (dataset, axis=0)\n",
    "min_max_av\n"
   ]
  },
  {
   "cell_type": "markdown",
   "metadata": {},
   "source": [
    "### Dibujando con Matplotlib\n",
    "    12.Dibuja un diagrama de barras donde se vea el valor medio de cada clase. Este gráfico debe tener como mínimo un título e información en los ejes\n",
    "    13.Dibuja un gráfico donde se pueda confrontar la primera característica (columna 0) con la quinta (columna 4). Serías capaz de asignar un color diferente a cada clase?\n",
    "    14.Muestra en un gráfico de los valores de la columna 4 por cada observación. Añadele la columna 2\n",
    "    15.No crees que sería mejor crear un histograma de los valores de la columna 4?"
   ]
  },
  {
   "cell_type": "code",
   "execution_count": 11,
   "metadata": {
    "scrolled": true
   },
   "outputs": [
    {
     "data": {
      "image/png": "[encoded data removed]",
      "text/plain": [
       "<Figure size 432x288 with 1 Axes>"
      ]
     },
     "metadata": {},
     "output_type": "display_data"
    }
   ],
   "source": [
    "#12\n",
    "\n",
    "clases = [1,2,3,4]\n",
    "media=np.zeros(4)\n",
    "for i in range (0,4):\n",
    "    media[i]=np.mean(dataset[classes==i])\n",
    "\n",
    "plt.figure()\n",
    "plt.bar(range(4),media, align='center')\n",
    "ax.set_xticks(range(4))\n",
    "ax.set_xticklabels(clases)\n",
    "plt.title(\"Media de cada clase\")\n",
    "plt.ylabel(\"Media\")\n",
    "plt.xlabel(\"Clase\")\n",
    "plt.show()"
   ]
  },
  {
   "cell_type": "code",
   "execution_count": 32,
   "metadata": {},
   "outputs": [
    {
     "data": {
      "image/png": "[encoded data removed]",
      "text/plain": [
       "<Figure size 432x288 with 1 Axes>"
      ]
     },
     "metadata": {},
     "output_type": "display_data"
    }
   ],
   "source": [
    "#14\n",
    "\n",
    "columna_4 = dataset[:,3]\n",
    "columna_2 = dataset[:,1]\n",
    "\n",
    "plt.title(\"Columna 4 vs Columna 2\")\n",
    "plt.plot(columna_4)\n",
    "plt.plot(columna_2)\n",
    "plt.show()"
   ]
  },
  {
   "cell_type": "code",
   "execution_count": 52,
   "metadata": {},
   "outputs": [
    {
     "data": {
      "image/png": "[encoded data removed]",
      "text/plain": [
       "<Figure size 432x288 with 1 Axes>"
      ]
     },
     "metadata": {},
     "output_type": "display_data"
    }
   ],
   "source": [
    "#15\n",
    "\n",
    "plt.figure()\n",
    "plt.bar(range(columna_4.shape[0]),columna_4, align='center')\n",
    "ax.set_xticks(range(columna_4.shape[0]))\n",
    "ax.set_xticklabels(columna_4)\n",
    "plt.title(\"Columna 4\")\n",
    "plt.ylabel(\"Valores\")\n",
    "plt.xlabel(\"Observación\")\n",
    "plt.show()"
   ]
  },
  {
   "cell_type": "markdown",
   "metadata": {},
   "source": [
    "### Aprendizaje automático \n",
    "(ver Notebook del dataset de digits)\n",
    "\n",
    "    16. Utiliza la técnica de aprendizaje de random forest para intentar clasificar este conjunto de características **"
   ]
  },
  {
   "cell_type": "markdown",
   "metadata": {},
   "source": [
    "    17.Existe otra técnica llamada Máquinas de vectores de soporte (SVM). Intenta aplicar esta técnica, qué resultados obtienes?\n",
    "   [Enlace](http://scikit-learn.org/stable/modules/generated/sklearn.svm.SVC.html)"
   ]
  }
 ],
 "metadata": {
  "anaconda-cloud": {},
  "kernelspec": {
   "display_name": "Python 3",
   "language": "python",
   "name": "python3"
  },
  "language_info": {
   "codemirror_mode": {
    "name": "ipython",
    "version": 3
   },
   "file_extension": ".py",
   "mimetype": "text/x-python",
   "name": "python",
   "nbconvert_exporter": "python",
   "pygments_lexer": "ipython3",
   "version": "3.6.5"
  }
 },
 "nbformat": 4,
 "nbformat_minor": 2
}
